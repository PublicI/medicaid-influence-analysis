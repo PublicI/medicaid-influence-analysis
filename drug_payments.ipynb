{
 "cells": [
  {
   "cell_type": "code",
   "execution_count": 1,
   "metadata": {
    "scrolled": false
   },
   "outputs": [
    {
     "data": {
      "application/javascript": [
       "if (!(\"Notification\" in window)) {\n",
       "    alert(\"This browser does not support desktop notifications, so the %%notify magic will not work.\");\n",
       "} else if (Notification.permission !== 'granted' && Notification.permission !== 'denied') {\n",
       "    Notification.requestPermission(function (permission) {\n",
       "        if(!('permission' in Notification)) {\n",
       "            Notification.permission = permission;\n",
       "        }\n",
       "    })\n",
       "}\n"
      ],
      "text/plain": [
       "<IPython.core.display.Javascript object>"
      ]
     },
     "metadata": {},
     "output_type": "display_data"
    }
   ],
   "source": [
    "import json\n",
    "import numpy as np\n",
    "import pandas as pd\n",
    "import psycopg2\n",
    "\n",
    "%load_ext jupyternotify"
   ]
  },
  {
   "cell_type": "markdown",
   "metadata": {},
   "source": [
    "# How many doctors on Medicaid drug utilization boards have received payments from drug manufacturers?"
   ]
  },
  {
   "cell_type": "markdown",
   "metadata": {},
   "source": [
    "We will use Open Payments data to determine the extent of payments from August 2013 through 2017 from drug manufacturers to doctors serving on Medicaid drug utilization boards between the start of 2016 and March of 2018."
   ]
  },
  {
   "cell_type": "markdown",
   "metadata": {},
   "source": [
    "## Create tables for analysis"
   ]
  },
  {
   "cell_type": "markdown",
   "metadata": {},
   "source": [
    "First, connect to the database."
   ]
  },
  {
   "cell_type": "code",
   "execution_count": 2,
   "metadata": {},
   "outputs": [],
   "source": [
    "with open(\"config.json\") as f:\n",
    "    conf = json.load(f)"
   ]
  },
  {
   "cell_type": "code",
   "execution_count": 3,
   "metadata": {},
   "outputs": [],
   "source": [
    "conn_str = \"host={} dbname={} user={} password={}\".format(conf[\"host\"], conf[\"database\"], conf[\"user\"], conf[\"password\"])"
   ]
  },
  {
   "cell_type": "code",
   "execution_count": 4,
   "metadata": {},
   "outputs": [],
   "source": [
    "conn = psycopg2.connect(conn_str)\n",
    "conn.autocommit = True # Allow the notebook to commit transactions (like creating a table) to the connected database."
   ]
  },
  {
   "cell_type": "markdown",
   "metadata": {},
   "source": [
    "Query the database to create a new table of all Medicaid drug utilization board members and the general purpose payments they received from drug manufacturers."
   ]
  },
  {
   "cell_type": "code",
   "execution_count": 5,
   "metadata": {},
   "outputs": [
    {
     "data": {
      "application/javascript": [
       "$(document).ready(\n",
       "    function() {\n",
       "        function appendUniqueDiv(){\n",
       "            // append a div with our uuid so we can check that it's already\n",
       "            // been sent and avoid duplicates on page reload\n",
       "            var notifiedDiv = document.createElement(\"div\")\n",
       "            notifiedDiv.id = \"636121e5-eda1-4dc7-a087-a8e4d4d23598\"\n",
       "            element.append(notifiedDiv)\n",
       "        }\n",
       "\n",
       "        // only send notifications if the pageload is complete; this will\n",
       "        // help stop extra notifications when a saved notebook is loaded,\n",
       "        // which during testing gives us state \"interactive\", not \"complete\"\n",
       "        if (document.readyState === 'complete') {\n",
       "            // check for the div that signifies that the notification\n",
       "            // was already sent\n",
       "            if (document.getElementById(\"636121e5-eda1-4dc7-a087-a8e4d4d23598\") === null) {\n",
       "                var notificationPayload = {\"requireInteraction\": false, \"icon\": \"/static/base/images/favicon.ico\", \"body\": \"Cell execution has finished!\"};\n",
       "                if (Notification.permission !== 'denied') {\n",
       "                    if (Notification.permission !== 'granted') { \n",
       "                        Notification.requestPermission(function (permission) {\n",
       "                            if(!('permission' in Notification)) {\n",
       "                                Notification.permission = permission\n",
       "                            }\n",
       "                        })\n",
       "                    }\n",
       "                    if (Notification.permission === 'granted') {\n",
       "                    var notification = new Notification(\"Jupyter Notebook\", notificationPayload)\n",
       "                    appendUniqueDiv()\n",
       "                    notification.onclick = function () {\n",
       "                        window.focus();\n",
       "                        this.close();\n",
       "                        };\n",
       "                    } \n",
       "                }     \n",
       "            }\n",
       "        }\n",
       "    }\n",
       ")\n"
      ],
      "text/plain": [
       "<IPython.core.display.Javascript object>"
      ]
     },
     "metadata": {},
     "output_type": "display_data"
    }
   ],
   "source": [
    "%%notify\n",
    "payments_by_doctor = pd.read_sql(\"\"\"CREATE TABLE IF NOT EXISTS payments_by_doctor AS\n",
    "SELECT physician_profile_id1 AS physician_profile_id,\n",
    "       first_name,\n",
    "       last_name,\n",
    "       state_name,\n",
    "       degree_1,\n",
    "       degree_2,\n",
    "       payments_amount,\n",
    "       number_of_payments\n",
    "FROM\n",
    "  (SELECT physician_profile_id AS physician_profile_id1,\n",
    "          first_name,\n",
    "          last_name,\n",
    "          state_name,\n",
    "          degree_1,\n",
    "          degree_2\n",
    "   FROM committee_members\n",
    "   LEFT JOIN open_payments_general ON first_name = physician_first_name\n",
    "   AND last_name = physician_last_name\n",
    "   AND state_name = recipient_state\n",
    "   GROUP BY physician_profile_id,\n",
    "            first_name,\n",
    "            last_name,\n",
    "            state_name,\n",
    "            degree_1,\n",
    "            degree_2) AS matching_committee_members\n",
    "LEFT JOIN\n",
    "  (SELECT physician_profile_id AS physician_profile_id2,\n",
    "          sum(total_amount_of_payment_usdollars) AS payments_amount,\n",
    "          count(DISTINCT record_id) AS number_of_payments\n",
    "   FROM open_payments_general\n",
    "   GROUP BY physician_profile_id) AS totals_by_id ON matching_committee_members.physician_profile_id1 = totals_by_id.physician_profile_id2;\n",
    "\n",
    "GRANT ALL ON TABLE payments_by_doctor TO redash;\n",
    "\n",
    "\n",
    "SELECT *\n",
    "FROM payments_by_doctor;\"\"\", con=conn)"
   ]
  },
  {
   "cell_type": "markdown",
   "metadata": {
    "collapsed": true
   },
   "source": [
    "The only consistent data we have about members serving on state drug utilization boards are the members' first name, last name and state. As such, that’s all we have to join against the Open Payments data. So in order to understand the extent of possible duplicates in this data, we will count how many distinct doctors in both the Open Payments general payments table and the [NPPES](https://npiregistry.cms.hhs.gov/) (a national dataset of physicians) registry table match our committee members."
   ]
  },
  {
   "cell_type": "code",
   "execution_count": 6,
   "metadata": {},
   "outputs": [
    {
     "data": {
      "application/javascript": [
       "$(document).ready(\n",
       "    function() {\n",
       "        function appendUniqueDiv(){\n",
       "            // append a div with our uuid so we can check that it's already\n",
       "            // been sent and avoid duplicates on page reload\n",
       "            var notifiedDiv = document.createElement(\"div\")\n",
       "            notifiedDiv.id = \"6d62ad61-3c25-4f90-a990-5addb41d3eb2\"\n",
       "            element.append(notifiedDiv)\n",
       "        }\n",
       "\n",
       "        // only send notifications if the pageload is complete; this will\n",
       "        // help stop extra notifications when a saved notebook is loaded,\n",
       "        // which during testing gives us state \"interactive\", not \"complete\"\n",
       "        if (document.readyState === 'complete') {\n",
       "            // check for the div that signifies that the notification\n",
       "            // was already sent\n",
       "            if (document.getElementById(\"6d62ad61-3c25-4f90-a990-5addb41d3eb2\") === null) {\n",
       "                var notificationPayload = {\"requireInteraction\": false, \"icon\": \"/static/base/images/favicon.ico\", \"body\": \"Cell execution has finished!\"};\n",
       "                if (Notification.permission !== 'denied') {\n",
       "                    if (Notification.permission !== 'granted') { \n",
       "                        Notification.requestPermission(function (permission) {\n",
       "                            if(!('permission' in Notification)) {\n",
       "                                Notification.permission = permission\n",
       "                            }\n",
       "                        })\n",
       "                    }\n",
       "                    if (Notification.permission === 'granted') {\n",
       "                    var notification = new Notification(\"Jupyter Notebook\", notificationPayload)\n",
       "                    appendUniqueDiv()\n",
       "                    notification.onclick = function () {\n",
       "                        window.focus();\n",
       "                        this.close();\n",
       "                        };\n",
       "                    } \n",
       "                }     \n",
       "            }\n",
       "        }\n",
       "    }\n",
       ")\n"
      ],
      "text/plain": [
       "<IPython.core.display.Javascript object>"
      ]
     },
     "metadata": {},
     "output_type": "display_data"
    }
   ],
   "source": [
    "%%notify\n",
    "payments_by_doctor_counts = pd.read_sql(\"\"\"\n",
    "CREATE TABLE IF NOT EXISTS payments_by_doctor_counts AS\n",
    "SELECT payments_by_doctor.physician_profile_id,\n",
    "       payments_by_doctor.first_name,\n",
    "       payments_by_doctor.last_name,\n",
    "       payments_by_doctor.state_name,\n",
    "       payments_by_doctor.degree_1,\n",
    "       payments_by_doctor.degree_2,\n",
    "       payments_amount,\n",
    "       number_of_payments,\n",
    "       doc_counts_nppes,\n",
    "       doc_counts_open_payments\n",
    "FROM payments_by_doctor\n",
    "LEFT JOIN\n",
    "  (SELECT provider_first_name,\n",
    "          provider_last_name_legal_name,\n",
    "          provider_business_practice_location_address_state_name,\n",
    "          count(DISTINCT npi) AS doc_counts_nppes\n",
    "   FROM nppes\n",
    "   GROUP BY provider_first_name,\n",
    "            provider_last_name_legal_name,\n",
    "            provider_business_practice_location_address_state_name) AS nppes_grouped_by_first_last_state ON payments_by_doctor.first_name = nppes_grouped_by_first_last_state.provider_first_name\n",
    "AND payments_by_doctor.last_name = nppes_grouped_by_first_last_state.provider_last_name_legal_name\n",
    "AND payments_by_doctor.state_name = nppes_grouped_by_first_last_state.provider_business_practice_location_address_state_name\n",
    "LEFT JOIN\n",
    "  (SELECT physician_first_name,\n",
    "          physician_last_name,\n",
    "          recipient_state,\n",
    "          count(DISTINCT physician_profile_id) AS doc_counts_open_payments\n",
    "   FROM open_payments_general\n",
    "   GROUP BY physician_first_name,\n",
    "            physician_last_name,\n",
    "            recipient_state) AS open_payments_grouped_by_first_last_state ON payments_by_doctor.first_name = open_payments_grouped_by_first_last_state.physician_first_name\n",
    "AND payments_by_doctor.last_name = open_payments_grouped_by_first_last_state.physician_last_name\n",
    "AND payments_by_doctor.state_name = open_payments_grouped_by_first_last_state.recipient_state;\n",
    "\n",
    "\n",
    "GRANT ALL ON TABLE payments_by_doctor_counts TO redash;\n",
    "\n",
    "\n",
    "SELECT *\n",
    "FROM payments_by_doctor_counts;\"\"\", con=conn)"
   ]
  },
  {
   "cell_type": "markdown",
   "metadata": {},
   "source": [
    "OK. So, we know we have some committee member doctors with the same name as other doctors in their state. Now let's find out the range of payments those doctors may have taken so we can get a sense as to how much uncertainty there is in our data vis-a-vis the prevalence of committee member doctors taking drug company money."
   ]
  },
  {
   "cell_type": "code",
   "execution_count": 7,
   "metadata": {},
   "outputs": [
    {
     "data": {
      "application/javascript": [
       "$(document).ready(\n",
       "    function() {\n",
       "        function appendUniqueDiv(){\n",
       "            // append a div with our uuid so we can check that it's already\n",
       "            // been sent and avoid duplicates on page reload\n",
       "            var notifiedDiv = document.createElement(\"div\")\n",
       "            notifiedDiv.id = \"668dc982-b75a-48b7-a487-f056b738ae15\"\n",
       "            element.append(notifiedDiv)\n",
       "        }\n",
       "\n",
       "        // only send notifications if the pageload is complete; this will\n",
       "        // help stop extra notifications when a saved notebook is loaded,\n",
       "        // which during testing gives us state \"interactive\", not \"complete\"\n",
       "        if (document.readyState === 'complete') {\n",
       "            // check for the div that signifies that the notification\n",
       "            // was already sent\n",
       "            if (document.getElementById(\"668dc982-b75a-48b7-a487-f056b738ae15\") === null) {\n",
       "                var notificationPayload = {\"requireInteraction\": false, \"icon\": \"/static/base/images/favicon.ico\", \"body\": \"Cell execution has finished!\"};\n",
       "                if (Notification.permission !== 'denied') {\n",
       "                    if (Notification.permission !== 'granted') { \n",
       "                        Notification.requestPermission(function (permission) {\n",
       "                            if(!('permission' in Notification)) {\n",
       "                                Notification.permission = permission\n",
       "                            }\n",
       "                        })\n",
       "                    }\n",
       "                    if (Notification.permission === 'granted') {\n",
       "                    var notification = new Notification(\"Jupyter Notebook\", notificationPayload)\n",
       "                    appendUniqueDiv()\n",
       "                    notification.onclick = function () {\n",
       "                        window.focus();\n",
       "                        this.close();\n",
       "                        };\n",
       "                    } \n",
       "                }     \n",
       "            }\n",
       "        }\n",
       "    }\n",
       ")\n"
      ],
      "text/plain": [
       "<IPython.core.display.Javascript object>"
      ]
     },
     "metadata": {},
     "output_type": "display_data"
    }
   ],
   "source": [
    "%%notify\n",
    "payments_by_doctor_max_min = pd.read_sql(\"\"\"\n",
    "CREATE TABLE IF NOT EXISTS payments_by_doctor_max_min AS\n",
    "SELECT physician_profile_id,\n",
    "       first_name,\n",
    "       last_name,\n",
    "       state_name,\n",
    "       degree_1,\n",
    "       degree_2,\n",
    "       payments_amount,\n",
    "       max_amount,\n",
    "       min_amount,\n",
    "       number_of_payments,\n",
    "       doc_counts_nppes,\n",
    "       doc_counts_open_payments\n",
    "FROM payments_by_doctor_counts\n",
    "LEFT JOIN\n",
    "  (SELECT first_name AS first_name_1,\n",
    "          last_name AS last_name_1,\n",
    "          state_name AS state_name_1,\n",
    "          max(payments_amount) AS max_amount,\n",
    "          min(payments_amount) AS min_amount\n",
    "   FROM payments_by_doctor\n",
    "   GROUP BY first_name_1,\n",
    "            last_name_1,\n",
    "            state_name_1) AS open_payments_grouped_by_first_last_state ON first_name = open_payments_grouped_by_first_last_state.first_name_1\n",
    "AND last_name = open_payments_grouped_by_first_last_state.last_name_1\n",
    "AND state_name = open_payments_grouped_by_first_last_state.state_name_1;\n",
    "\n",
    "GRANT ALL ON TABLE payments_by_doctor_max_min TO redash;\n",
    "\n",
    "\n",
    "SELECT *\n",
    "FROM payments_by_doctor_max_min;\"\"\", con=conn)"
   ]
  },
  {
   "cell_type": "markdown",
   "metadata": {},
   "source": [
    "When we joined the committee members table to the Open Payments table, our query returned multiple doctors with the same name and state in instances where multiple doctors were recorded as accepting payments. In order to avoid overstating the amount of payments these committee members took, we need to return a table of board members and the payments they received that eliminates duplicates."
   ]
  },
  {
   "cell_type": "code",
   "execution_count": 8,
   "metadata": {},
   "outputs": [
    {
     "data": {
      "application/javascript": [
       "$(document).ready(\n",
       "    function() {\n",
       "        function appendUniqueDiv(){\n",
       "            // append a div with our uuid so we can check that it's already\n",
       "            // been sent and avoid duplicates on page reload\n",
       "            var notifiedDiv = document.createElement(\"div\")\n",
       "            notifiedDiv.id = \"5bd70692-1ce5-4ad4-ac64-8d6dc23a8481\"\n",
       "            element.append(notifiedDiv)\n",
       "        }\n",
       "\n",
       "        // only send notifications if the pageload is complete; this will\n",
       "        // help stop extra notifications when a saved notebook is loaded,\n",
       "        // which during testing gives us state \"interactive\", not \"complete\"\n",
       "        if (document.readyState === 'complete') {\n",
       "            // check for the div that signifies that the notification\n",
       "            // was already sent\n",
       "            if (document.getElementById(\"5bd70692-1ce5-4ad4-ac64-8d6dc23a8481\") === null) {\n",
       "                var notificationPayload = {\"requireInteraction\": false, \"icon\": \"/static/base/images/favicon.ico\", \"body\": \"Cell execution has finished!\"};\n",
       "                if (Notification.permission !== 'denied') {\n",
       "                    if (Notification.permission !== 'granted') { \n",
       "                        Notification.requestPermission(function (permission) {\n",
       "                            if(!('permission' in Notification)) {\n",
       "                                Notification.permission = permission\n",
       "                            }\n",
       "                        })\n",
       "                    }\n",
       "                    if (Notification.permission === 'granted') {\n",
       "                    var notification = new Notification(\"Jupyter Notebook\", notificationPayload)\n",
       "                    appendUniqueDiv()\n",
       "                    notification.onclick = function () {\n",
       "                        window.focus();\n",
       "                        this.close();\n",
       "                        };\n",
       "                    } \n",
       "                }     \n",
       "            }\n",
       "        }\n",
       "    }\n",
       ")\n"
      ],
      "text/plain": [
       "<IPython.core.display.Javascript object>"
      ]
     },
     "metadata": {},
     "output_type": "display_data"
    }
   ],
   "source": [
    "%%notify\n",
    "deduplicated_payments_by_doctor = pd.read_sql(\"\"\"\n",
    "CREATE TABLE IF NOT EXISTS deduplicated_payments_by_doctor AS\n",
    "SELECT *\n",
    "FROM\n",
    "  (SELECT DISTINCT ON (first_name,\n",
    "                       last_name,\n",
    "                       state_name) *\n",
    "   FROM payments_by_doctor_max_min) AS grouped_by_first_last_state;\n",
    "\n",
    "GRANT ALL ON TABLE deduplicated_payments_by_doctor TO redash;\n",
    "\n",
    "\n",
    "SELECT *\n",
    "FROM deduplicated_payments_by_doctor;\"\"\", con=conn)"
   ]
  },
  {
   "cell_type": "markdown",
   "metadata": {},
   "source": [
    "And finally, let's play it safe and remove those board member doctors who might have another doctor in the same state with the same name. To do so, we'll return a table that only includes doctors a) without possible duplicates, b) with more records in the Open Payments table than in the NPPES table or c) appearing only in the Open Payments table and not in the NPPES table."
   ]
  },
  {
   "cell_type": "code",
   "execution_count": 9,
   "metadata": {},
   "outputs": [
    {
     "data": {
      "application/javascript": [
       "$(document).ready(\n",
       "    function() {\n",
       "        function appendUniqueDiv(){\n",
       "            // append a div with our uuid so we can check that it's already\n",
       "            // been sent and avoid duplicates on page reload\n",
       "            var notifiedDiv = document.createElement(\"div\")\n",
       "            notifiedDiv.id = \"09803acb-2e1e-454a-8dd4-3656b4c2a7e3\"\n",
       "            element.append(notifiedDiv)\n",
       "        }\n",
       "\n",
       "        // only send notifications if the pageload is complete; this will\n",
       "        // help stop extra notifications when a saved notebook is loaded,\n",
       "        // which during testing gives us state \"interactive\", not \"complete\"\n",
       "        if (document.readyState === 'complete') {\n",
       "            // check for the div that signifies that the notification\n",
       "            // was already sent\n",
       "            if (document.getElementById(\"09803acb-2e1e-454a-8dd4-3656b4c2a7e3\") === null) {\n",
       "                var notificationPayload = {\"requireInteraction\": false, \"icon\": \"/static/base/images/favicon.ico\", \"body\": \"Cell execution has finished!\"};\n",
       "                if (Notification.permission !== 'denied') {\n",
       "                    if (Notification.permission !== 'granted') { \n",
       "                        Notification.requestPermission(function (permission) {\n",
       "                            if(!('permission' in Notification)) {\n",
       "                                Notification.permission = permission\n",
       "                            }\n",
       "                        })\n",
       "                    }\n",
       "                    if (Notification.permission === 'granted') {\n",
       "                    var notification = new Notification(\"Jupyter Notebook\", notificationPayload)\n",
       "                    appendUniqueDiv()\n",
       "                    notification.onclick = function () {\n",
       "                        window.focus();\n",
       "                        this.close();\n",
       "                        };\n",
       "                    } \n",
       "                }     \n",
       "            }\n",
       "        }\n",
       "    }\n",
       ")\n"
      ],
      "text/plain": [
       "<IPython.core.display.Javascript object>"
      ]
     },
     "metadata": {},
     "output_type": "display_data"
    }
   ],
   "source": [
    "%%notify\n",
    "duplicates_removed = pd.read_sql(\"\"\"\n",
    "CREATE TABLE IF NOT EXISTS duplicates_removed AS\n",
    "SELECT physician_profile_id, first_name, last_name, state_name, degree_1, degree_2, min_amount AS payments_amount, number_of_payments\n",
    "FROM deduplicated_payments_by_doctor\n",
    "WHERE doc_counts_nppes = doc_counts_open_payments\n",
    "  AND doc_counts_nppes = 1\n",
    "  OR doc_counts_nppes < doc_counts_open_payments\n",
    "  OR doc_counts_nppes IS NULL\n",
    "  AND doc_counts_open_payments = 1;\n",
    "\n",
    "GRANT ALL ON TABLE duplicates_removed TO redash;\n",
    "\n",
    "\n",
    "SELECT *\n",
    "FROM duplicates_removed;\"\"\", con=conn)"
   ]
  },
  {
   "cell_type": "markdown",
   "metadata": {
    "collapsed": true
   },
   "source": [
    "## Calculate the proportion of doctors accepting drug company money"
   ]
  },
  {
   "cell_type": "markdown",
   "metadata": {},
   "source": [
    "How much money from drug companies have doctors sitting on drug utilization boards received? We will use the minimum amount column so as to avoid overcounting payments in cases where more than one doctor with the same name in the same state is listed in Open Payments."
   ]
  },
  {
   "cell_type": "code",
   "execution_count": 10,
   "metadata": {},
   "outputs": [
    {
     "data": {
      "text/plain": [
       "3036013.1100000013"
      ]
     },
     "execution_count": 10,
     "metadata": {},
     "output_type": "execute_result"
    }
   ],
   "source": [
    "duplicates_removed[\"payments_amount\"].sum()"
   ]
  },
  {
   "cell_type": "markdown",
   "metadata": {},
   "source": [
    "OK. So doctors sitting on drug utilization boards have taken in about $3 million. And how many of these doctors are there?"
   ]
  },
  {
   "cell_type": "code",
   "execution_count": 11,
   "metadata": {},
   "outputs": [
    {
     "data": {
      "text/plain": [
       "physician_profile_id    283\n",
       "first_name              283\n",
       "last_name               283\n",
       "state_name              283\n",
       "degree_1                274\n",
       "degree_2                 29\n",
       "payments_amount         283\n",
       "number_of_payments      283\n",
       "dtype: int64"
      ]
     },
     "execution_count": 11,
     "metadata": {},
     "output_type": "execute_result"
    }
   ],
   "source": [
    "duplicates_removed[duplicates_removed[\"payments_amount\"] > 0].count()"
   ]
  },
  {
   "cell_type": "markdown",
   "metadata": {},
   "source": [
    "OK. So, 283 doctors on drug utilization boards have taken at least some money from drug companies. What amount of all doctors sitting on these boards does that figure represent? To figure that out, we'll need to first calculate all the covered physicians sitting on the boards, as determined by their degree(s)."
   ]
  },
  {
   "cell_type": "code",
   "execution_count": 12,
   "metadata": {},
   "outputs": [
    {
     "data": {
      "text/plain": [
       "['MD', 'DO', 'DMD', 'DDS', 'DPM', 'OD', 'DC']"
      ]
     },
     "execution_count": 12,
     "metadata": {},
     "output_type": "execute_result"
    }
   ],
   "source": [
    "covered_degrees = [\"MD\", \"DO\", \"DMD\", \"DDS\", \"DPM\", \"OD\", \"DC\"]\n",
    "covered_degrees"
   ]
  },
  {
   "cell_type": "markdown",
   "metadata": {},
   "source": [
    "So how many doctors sitting on these boards either held one of these degrees or took money from drug companies (and were thus by definition covered by Open Payments)? That's our denominator."
   ]
  },
  {
   "cell_type": "code",
   "execution_count": 13,
   "metadata": {},
   "outputs": [
    {
     "data": {
      "text/plain": [
       "physician_profile_id        313\n",
       "first_name                  455\n",
       "last_name                   455\n",
       "state_name                  455\n",
       "degree_1                    445\n",
       "degree_2                     44\n",
       "payments_amount             313\n",
       "max_amount                  313\n",
       "min_amount                  313\n",
       "number_of_payments          313\n",
       "doc_counts_nppes            377\n",
       "doc_counts_open_payments    313\n",
       "dtype: int64"
      ]
     },
     "execution_count": 13,
     "metadata": {},
     "output_type": "execute_result"
    }
   ],
   "source": [
    "deduplicated_payments_by_doctor[(deduplicated_payments_by_doctor[\"degree_1\"].isin(covered_degrees)) | (deduplicated_payments_by_doctor[\"degree_2\"].isin(covered_degrees)) | (deduplicated_payments_by_doctor[\"min_amount\"] > 0)].count()"
   ]
  },
  {
   "cell_type": "markdown",
   "metadata": {},
   "source": [
    "OK. So, it looks like 455 doctors either held one of these covered degrees or took money from drug companies (and were thus by definition covered by Open Payments). It's possible some of the doctors for whom we lack degree information are covered by Open Payments but we just don't know. (It's also possible that some of the doctors we excluded from our count of doctors taking drug company money because there was at least one possible duplicate who didn't take money did, in fact, take money.) In any case, using the 455 figure as our denominator, 62 percent of covered doctors sitting on these boards took some amount of money from drug companies."
   ]
  },
  {
   "cell_type": "markdown",
   "metadata": {},
   "source": [
    "How many received more than $1,000?"
   ]
  },
  {
   "cell_type": "code",
   "execution_count": 14,
   "metadata": {
    "scrolled": true
   },
   "outputs": [
    {
     "data": {
      "text/plain": [
       "physician_profile_id    103\n",
       "first_name              103\n",
       "last_name               103\n",
       "state_name              103\n",
       "degree_1                 99\n",
       "degree_2                  9\n",
       "payments_amount         103\n",
       "number_of_payments      103\n",
       "dtype: int64"
      ]
     },
     "execution_count": 14,
     "metadata": {},
     "output_type": "execute_result"
    }
   ],
   "source": [
    "duplicates_removed[duplicates_removed[\"payments_amount\"] > 1000].count()"
   ]
  },
  {
   "cell_type": "markdown",
   "metadata": {},
   "source": [
    "OK. So, 103 doctors received more than $1,000."
   ]
  },
  {
   "cell_type": "markdown",
   "metadata": {},
   "source": [
    "How many received more than $10,000?"
   ]
  },
  {
   "cell_type": "code",
   "execution_count": 15,
   "metadata": {},
   "outputs": [
    {
     "data": {
      "text/plain": [
       "physician_profile_id    34\n",
       "first_name              34\n",
       "last_name               34\n",
       "state_name              34\n",
       "degree_1                31\n",
       "degree_2                 3\n",
       "payments_amount         34\n",
       "number_of_payments      34\n",
       "dtype: int64"
      ]
     },
     "execution_count": 15,
     "metadata": {},
     "output_type": "execute_result"
    }
   ],
   "source": [
    "duplicates_removed[duplicates_removed[\"payments_amount\"] > 10000].count()"
   ]
  },
  {
   "cell_type": "markdown",
   "metadata": {},
   "source": [
    "OK. So, 34 doctors received more than $10,000."
   ]
  },
  {
   "cell_type": "markdown",
   "metadata": {},
   "source": [
    "## Calculate the proportion of states on whose committees sit doctors accepting drug company money"
   ]
  },
  {
   "cell_type": "markdown",
   "metadata": {},
   "source": [
    "Now let's break a couple of these figures down by state. First up: how many states had doctors on such a board who received money from drug companies?"
   ]
  },
  {
   "cell_type": "code",
   "execution_count": 16,
   "metadata": {
    "scrolled": true
   },
   "outputs": [
    {
     "data": {
      "text/plain": [
       "state_name        48\n",
       "total_doctors     48\n",
       "total_payments    48\n",
       "max_payment       48\n",
       "doctors_paid      48\n",
       "dtype: int64"
      ]
     },
     "execution_count": 16,
     "metadata": {},
     "output_type": "execute_result"
    }
   ],
   "source": [
    "# Calculate the number of doctors receiving money per state and the amount they took.\n",
    "receiving_docs_by_state = duplicates_removed.groupby(\"state_name\").agg({\"payments_amount\": [sum, max], \"physician_profile_id\": len})\n",
    "receiving_docs_by_state.columns = receiving_docs_by_state.columns.droplevel() # Drop the first level of the multi-level column names\n",
    "receiving_docs_by_state.reset_index(inplace=True)\n",
    "receiving_docs_by_state.rename(columns={\"sum\": \"total_payments\", \"max\": \"max_payment\", \"len\": \"doctors_paid\"}, inplace=True)\n",
    "\n",
    "# Calculate the total number of doctors per state.\n",
    "total_docs_by_state = deduplicated_payments_by_doctor[(deduplicated_payments_by_doctor[\"degree_1\"].isin(covered_degrees)) | (deduplicated_payments_by_doctor[\"degree_2\"].isin(covered_degrees)) | (deduplicated_payments_by_doctor[\"min_amount\"] > 0)].groupby(\"state_name\").agg({\"physician_profile_id\": len})\n",
    "total_docs_by_state.reset_index(inplace=True)\n",
    "total_docs_by_state.rename(columns={\"physician_profile_id\": \"total_doctors\"}, inplace=True)\n",
    "\n",
    "# Merge the dataframes.\n",
    "payments_by_state = total_docs_by_state.merge(receiving_docs_by_state, how=\"outer\", on=\"state_name\")\n",
    "payments_by_state[payments_by_state[\"total_payments\"] > 0].count()"
   ]
  },
  {
   "cell_type": "markdown",
   "metadata": {},
   "source": [
    "OK. So it looks like 48 states had doctors on such boards who received money."
   ]
  },
  {
   "cell_type": "markdown",
   "metadata": {},
   "source": [
    "And how many states had at least one doctor on such a board who received more than $1,000?"
   ]
  },
  {
   "cell_type": "code",
   "execution_count": 17,
   "metadata": {},
   "outputs": [
    {
     "data": {
      "text/plain": [
       "state_name        38\n",
       "total_doctors     38\n",
       "total_payments    38\n",
       "max_payment       38\n",
       "doctors_paid      38\n",
       "dtype: int64"
      ]
     },
     "execution_count": 17,
     "metadata": {},
     "output_type": "execute_result"
    }
   ],
   "source": [
    "payments_by_state[payments_by_state[\"max_payment\"] > 1000].count()"
   ]
  },
  {
   "cell_type": "markdown",
   "metadata": {},
   "source": [
    "OK. It looks like 38 states had at least one doctor on such a board who received more than $1,000."
   ]
  },
  {
   "cell_type": "markdown",
   "metadata": {},
   "source": [
    "## Analysis of specific doctors"
   ]
  },
  {
   "cell_type": "markdown",
   "metadata": {},
   "source": [
    "There are a handful of doctors whose payments particularly interest us."
   ]
  },
  {
   "cell_type": "markdown",
   "metadata": {},
   "source": [
    "First, how much Otsuka money did Dr. Divyansu Patel accept between January 2016 and the meeting of the Texas Drug Utilization Review Board on November 3, 2017 at which he spoke favorably of their drug Rexulti?"
   ]
  },
  {
   "cell_type": "code",
   "execution_count": 18,
   "metadata": {},
   "outputs": [
    {
     "data": {
      "application/javascript": [
       "$(document).ready(\n",
       "    function() {\n",
       "        function appendUniqueDiv(){\n",
       "            // append a div with our uuid so we can check that it's already\n",
       "            // been sent and avoid duplicates on page reload\n",
       "            var notifiedDiv = document.createElement(\"div\")\n",
       "            notifiedDiv.id = \"3796e665-e15d-408b-90a6-70e8ffb86891\"\n",
       "            element.append(notifiedDiv)\n",
       "        }\n",
       "\n",
       "        // only send notifications if the pageload is complete; this will\n",
       "        // help stop extra notifications when a saved notebook is loaded,\n",
       "        // which during testing gives us state \"interactive\", not \"complete\"\n",
       "        if (document.readyState === 'complete') {\n",
       "            // check for the div that signifies that the notification\n",
       "            // was already sent\n",
       "            if (document.getElementById(\"3796e665-e15d-408b-90a6-70e8ffb86891\") === null) {\n",
       "                var notificationPayload = {\"requireInteraction\": false, \"icon\": \"/static/base/images/favicon.ico\", \"body\": \"Cell execution has finished!\"};\n",
       "                if (Notification.permission !== 'denied') {\n",
       "                    if (Notification.permission !== 'granted') { \n",
       "                        Notification.requestPermission(function (permission) {\n",
       "                            if(!('permission' in Notification)) {\n",
       "                                Notification.permission = permission\n",
       "                            }\n",
       "                        })\n",
       "                    }\n",
       "                    if (Notification.permission === 'granted') {\n",
       "                    var notification = new Notification(\"Jupyter Notebook\", notificationPayload)\n",
       "                    appendUniqueDiv()\n",
       "                    notification.onclick = function () {\n",
       "                        window.focus();\n",
       "                        this.close();\n",
       "                        };\n",
       "                    } \n",
       "                }     \n",
       "            }\n",
       "        }\n",
       "    }\n",
       ")\n"
      ],
      "text/plain": [
       "<IPython.core.display.Javascript object>"
      ]
     },
     "metadata": {},
     "output_type": "display_data"
    }
   ],
   "source": [
    "%%notify\n",
    "patel_payments = pd.read_sql(\"\"\"\n",
    "CREATE TABLE IF NOT EXISTS patel_payments AS\n",
    "SELECT date_of_payment,\n",
    "       applicable_manufacturer_or_applicable_gpo_making_payment_name,\n",
    "       name_of_drug_or_biological_or_device_or_medical_supply_1,\n",
    "       nature_of_payment_or_transfer_of_value,\n",
    "       sum(total_amount_of_payment_usdollars) as payments_amount\n",
    "FROM open_payments_general\n",
    "WHERE physician_last_name = 'PATEL'\n",
    "  AND physician_first_name = 'DIVYANSU'\n",
    "  AND recipient_state = 'TX'\n",
    "  AND applicable_manufacturer_or_applicable_gpo_making_payment_name ILIKE '%OTSUKA%'\n",
    "  AND date_of_payment::date >= '01/01/2016'\n",
    "  AND date_of_payment::date <= '11/03/2017'\n",
    "GROUP BY date_of_payment,\n",
    "         applicable_manufacturer_or_applicable_gpo_making_payment_name,\n",
    "         name_of_drug_or_biological_or_device_or_medical_supply_1,\n",
    "         nature_of_payment_or_transfer_of_value;\n",
    "\n",
    "GRANT ALL ON TABLE patel_payments TO redash;\n",
    "\n",
    "\n",
    "SELECT *\n",
    "FROM patel_payments;\"\"\", con=conn)"
   ]
  },
  {
   "cell_type": "code",
   "execution_count": 19,
   "metadata": {},
   "outputs": [
    {
     "data": {
      "text/plain": [
       "12994.249999999998"
      ]
     },
     "execution_count": 19,
     "metadata": {},
     "output_type": "execute_result"
    }
   ],
   "source": [
    "patel_payments[\"payments_amount\"].sum()"
   ]
  },
  {
   "cell_type": "markdown",
   "metadata": {},
   "source": [
    "OK. It looks like Dr. Patel accepted nearly $13,000 from Otsuka between January 2016 and November 3, 2017."
   ]
  },
  {
   "cell_type": "markdown",
   "metadata": {},
   "source": [
    "Next, how much money did Dr. Matthew Brams, another board member praising such injectable anti-psychotic medications, accept in that same time frame from drug makers Alkermes and Otsuka to speak about their products?"
   ]
  },
  {
   "cell_type": "code",
   "execution_count": 20,
   "metadata": {},
   "outputs": [
    {
     "data": {
      "application/javascript": [
       "$(document).ready(\n",
       "    function() {\n",
       "        function appendUniqueDiv(){\n",
       "            // append a div with our uuid so we can check that it's already\n",
       "            // been sent and avoid duplicates on page reload\n",
       "            var notifiedDiv = document.createElement(\"div\")\n",
       "            notifiedDiv.id = \"a21eba47-7708-4721-b307-9a105ff3c3d7\"\n",
       "            element.append(notifiedDiv)\n",
       "        }\n",
       "\n",
       "        // only send notifications if the pageload is complete; this will\n",
       "        // help stop extra notifications when a saved notebook is loaded,\n",
       "        // which during testing gives us state \"interactive\", not \"complete\"\n",
       "        if (document.readyState === 'complete') {\n",
       "            // check for the div that signifies that the notification\n",
       "            // was already sent\n",
       "            if (document.getElementById(\"a21eba47-7708-4721-b307-9a105ff3c3d7\") === null) {\n",
       "                var notificationPayload = {\"requireInteraction\": false, \"icon\": \"/static/base/images/favicon.ico\", \"body\": \"Cell execution has finished!\"};\n",
       "                if (Notification.permission !== 'denied') {\n",
       "                    if (Notification.permission !== 'granted') { \n",
       "                        Notification.requestPermission(function (permission) {\n",
       "                            if(!('permission' in Notification)) {\n",
       "                                Notification.permission = permission\n",
       "                            }\n",
       "                        })\n",
       "                    }\n",
       "                    if (Notification.permission === 'granted') {\n",
       "                    var notification = new Notification(\"Jupyter Notebook\", notificationPayload)\n",
       "                    appendUniqueDiv()\n",
       "                    notification.onclick = function () {\n",
       "                        window.focus();\n",
       "                        this.close();\n",
       "                        };\n",
       "                    } \n",
       "                }     \n",
       "            }\n",
       "        }\n",
       "    }\n",
       ")\n"
      ],
      "text/plain": [
       "<IPython.core.display.Javascript object>"
      ]
     },
     "metadata": {},
     "output_type": "display_data"
    }
   ],
   "source": [
    "%%notify\n",
    "brams_payments = pd.read_sql(\"\"\"\n",
    "CREATE TABLE IF NOT EXISTS brams_payments AS\n",
    "SELECT date_of_payment,\n",
    "       applicable_manufacturer_or_applicable_gpo_making_payment_name,\n",
    "       name_of_drug_or_biological_or_device_or_medical_supply_1,\n",
    "       nature_of_payment_or_transfer_of_value,\n",
    "       sum(total_amount_of_payment_usdollars) AS payments_amount\n",
    "FROM open_payments_general\n",
    "WHERE physician_last_name = 'BRAMS'\n",
    "  AND physician_first_name = 'MATTHEW'\n",
    "  AND recipient_state = 'TX'\n",
    "  AND (applicable_manufacturer_or_applicable_gpo_making_payment_name ILIKE '%OTSUKA%'\n",
    "       OR applicable_manufacturer_or_applicable_gpo_making_payment_name ILIKE '%ALKERMES%')\n",
    "  AND (name_of_drug_or_biological_or_device_or_medical_supply_1 ILIKE '%INVEGA TRINZA%'\n",
    "       OR name_of_drug_or_biological_or_device_or_medical_supply_1 ILIKE '%ARISTADA%'\n",
    "       OR name_of_drug_or_biological_or_device_or_medical_supply_1 ILIKE '%ABILIFY MAINTENA%')\n",
    "  AND (nature_of_payment_or_transfer_of_value = 'Compensation for services other than consulting, including serving as faculty or as a speaker at a venue other than a continuing education program'\n",
    "       OR nature_of_payment_or_transfer_of_value = 'Honoraria')\n",
    "  AND date_of_payment::date >= '01/01/2016'\n",
    "  AND date_of_payment::date <= '11/03/2017'\n",
    "GROUP BY date_of_payment,\n",
    "         applicable_manufacturer_or_applicable_gpo_making_payment_name,\n",
    "         name_of_drug_or_biological_or_device_or_medical_supply_1,\n",
    "         nature_of_payment_or_transfer_of_value;\n",
    "\n",
    "GRANT ALL ON TABLE brams_payments TO redash;\n",
    "\n",
    "\n",
    "SELECT *\n",
    "FROM brams_payments;\"\"\", con=conn)"
   ]
  },
  {
   "cell_type": "code",
   "execution_count": 21,
   "metadata": {},
   "outputs": [
    {
     "data": {
      "text/plain": [
       "184601.5"
      ]
     },
     "execution_count": 21,
     "metadata": {},
     "output_type": "execute_result"
    }
   ],
   "source": [
    "brams_payments[\"payments_amount\"].sum()"
   ]
  },
  {
   "cell_type": "markdown",
   "metadata": {},
   "source": [
    "OK. It looks like Dr. Brams accepted nearly $185,000 from Alkermes and Otsuka to speak about their injectable anti-psychotic medications between January 2016 and November 3, 2017."
   ]
  },
  {
   "cell_type": "markdown",
   "metadata": {},
   "source": [
    "Next, how much drug company money did Arizona drug committee member Dr. Mohamed Ramadan accept?"
   ]
  },
  {
   "cell_type": "code",
   "execution_count": 22,
   "metadata": {},
   "outputs": [
    {
     "data": {
      "application/javascript": [
       "$(document).ready(\n",
       "    function() {\n",
       "        function appendUniqueDiv(){\n",
       "            // append a div with our uuid so we can check that it's already\n",
       "            // been sent and avoid duplicates on page reload\n",
       "            var notifiedDiv = document.createElement(\"div\")\n",
       "            notifiedDiv.id = \"adf56cdd-401d-4413-8a22-ca80541f8045\"\n",
       "            element.append(notifiedDiv)\n",
       "        }\n",
       "\n",
       "        // only send notifications if the pageload is complete; this will\n",
       "        // help stop extra notifications when a saved notebook is loaded,\n",
       "        // which during testing gives us state \"interactive\", not \"complete\"\n",
       "        if (document.readyState === 'complete') {\n",
       "            // check for the div that signifies that the notification\n",
       "            // was already sent\n",
       "            if (document.getElementById(\"adf56cdd-401d-4413-8a22-ca80541f8045\") === null) {\n",
       "                var notificationPayload = {\"requireInteraction\": false, \"icon\": \"/static/base/images/favicon.ico\", \"body\": \"Cell execution has finished!\"};\n",
       "                if (Notification.permission !== 'denied') {\n",
       "                    if (Notification.permission !== 'granted') { \n",
       "                        Notification.requestPermission(function (permission) {\n",
       "                            if(!('permission' in Notification)) {\n",
       "                                Notification.permission = permission\n",
       "                            }\n",
       "                        })\n",
       "                    }\n",
       "                    if (Notification.permission === 'granted') {\n",
       "                    var notification = new Notification(\"Jupyter Notebook\", notificationPayload)\n",
       "                    appendUniqueDiv()\n",
       "                    notification.onclick = function () {\n",
       "                        window.focus();\n",
       "                        this.close();\n",
       "                        };\n",
       "                    } \n",
       "                }     \n",
       "            }\n",
       "        }\n",
       "    }\n",
       ")\n"
      ],
      "text/plain": [
       "<IPython.core.display.Javascript object>"
      ]
     },
     "metadata": {},
     "output_type": "display_data"
    }
   ],
   "source": [
    "%%notify\n",
    "ramadan_payments = pd.read_sql(\"\"\"\n",
    "CREATE TABLE IF NOT EXISTS ramadan_payments AS\n",
    "SELECT record_id,\n",
    "       date_of_payment,\n",
    "       nature_of_payment_or_transfer_of_value,\n",
    "       name_of_drug_or_biological_or_device_or_medical_supply_1,\n",
    "       sum(total_amount_of_payment_usdollars) AS payments_amount\n",
    "FROM open_payments_general\n",
    "WHERE physician_last_name = 'RAMADAN'\n",
    "  AND physician_first_name = 'MOHAMED'\n",
    "  AND recipient_state = 'AZ'\n",
    "GROUP BY record_id,\n",
    "         date_of_payment,\n",
    "         nature_of_payment_or_transfer_of_value,\n",
    "         name_of_drug_or_biological_or_device_or_medical_supply_1;\n",
    "\n",
    "GRANT ALL ON TABLE ramadan_payments TO redash;\n",
    "\n",
    "\n",
    "SELECT *\n",
    "FROM ramadan_payments;\"\"\", con=conn)"
   ]
  },
  {
   "cell_type": "code",
   "execution_count": 23,
   "metadata": {},
   "outputs": [
    {
     "data": {
      "text/html": [
       "<div>\n",
       "<style scoped>\n",
       "    .dataframe tbody tr th:only-of-type {\n",
       "        vertical-align: middle;\n",
       "    }\n",
       "\n",
       "    .dataframe tbody tr th {\n",
       "        vertical-align: top;\n",
       "    }\n",
       "\n",
       "    .dataframe thead th {\n",
       "        text-align: right;\n",
       "    }\n",
       "</style>\n",
       "<table border=\"1\" class=\"dataframe\">\n",
       "  <thead>\n",
       "    <tr style=\"text-align: right;\">\n",
       "      <th></th>\n",
       "      <th>record_id</th>\n",
       "      <th>payments_amount</th>\n",
       "    </tr>\n",
       "    <tr>\n",
       "      <th>nature_of_payment_or_transfer_of_value</th>\n",
       "      <th></th>\n",
       "      <th></th>\n",
       "    </tr>\n",
       "  </thead>\n",
       "  <tbody>\n",
       "    <tr>\n",
       "      <th>Compensation for services other than consulting, including serving as faculty or as a speaker at a venue other than a continuing education program</th>\n",
       "      <td>333</td>\n",
       "      <td>505174.21</td>\n",
       "    </tr>\n",
       "    <tr>\n",
       "      <th>Travel and Lodging</th>\n",
       "      <td>418</td>\n",
       "      <td>160918.49</td>\n",
       "    </tr>\n",
       "    <tr>\n",
       "      <th>Food and Beverage</th>\n",
       "      <td>447</td>\n",
       "      <td>23024.11</td>\n",
       "    </tr>\n",
       "    <tr>\n",
       "      <th>Consulting Fee</th>\n",
       "      <td>13</td>\n",
       "      <td>13063.69</td>\n",
       "    </tr>\n",
       "    <tr>\n",
       "      <th>Education</th>\n",
       "      <td>15</td>\n",
       "      <td>485.11</td>\n",
       "    </tr>\n",
       "    <tr>\n",
       "      <th>Gift</th>\n",
       "      <td>2</td>\n",
       "      <td>116.35</td>\n",
       "    </tr>\n",
       "  </tbody>\n",
       "</table>\n",
       "</div>"
      ],
      "text/plain": [
       "                                                    record_id  payments_amount\n",
       "nature_of_payment_or_transfer_of_value                                        \n",
       "Compensation for services other than consulting...        333        505174.21\n",
       "Travel and Lodging                                        418        160918.49\n",
       "Food and Beverage                                         447         23024.11\n",
       "Consulting Fee                                             13         13063.69\n",
       "Education                                                  15           485.11\n",
       "Gift                                                        2           116.35"
      ]
     },
     "execution_count": 23,
     "metadata": {},
     "output_type": "execute_result"
    }
   ],
   "source": [
    "ramadan_payments.groupby(\"nature_of_payment_or_transfer_of_value\").agg({\"record_id\": len, \"payments_amount\": sum}).sort_values(\"payments_amount\", ascending=False)"
   ]
  },
  {
   "cell_type": "markdown",
   "metadata": {},
   "source": [
    "OK. It looks like Dr. Ramadan accepted nearly \\$703,000 from drug companies, with more than \\$505,000 coming in the form of compensation for giving speeches."
   ]
  },
  {
   "cell_type": "code",
   "execution_count": 24,
   "metadata": {
    "scrolled": true
   },
   "outputs": [
    {
     "data": {
      "text/html": [
       "<div>\n",
       "<style scoped>\n",
       "    .dataframe tbody tr th:only-of-type {\n",
       "        vertical-align: middle;\n",
       "    }\n",
       "\n",
       "    .dataframe tbody tr th {\n",
       "        vertical-align: top;\n",
       "    }\n",
       "\n",
       "    .dataframe thead th {\n",
       "        text-align: right;\n",
       "    }\n",
       "</style>\n",
       "<table border=\"1\" class=\"dataframe\">\n",
       "  <thead>\n",
       "    <tr style=\"text-align: right;\">\n",
       "      <th></th>\n",
       "      <th>record_id</th>\n",
       "      <th>payments_amount</th>\n",
       "    </tr>\n",
       "    <tr>\n",
       "      <th>name_of_drug_or_biological_or_device_or_medical_supply_1</th>\n",
       "      <th></th>\n",
       "      <th></th>\n",
       "    </tr>\n",
       "  </thead>\n",
       "  <tbody>\n",
       "    <tr>\n",
       "      <th>ABILIFY MAINTENA</th>\n",
       "      <td>298</td>\n",
       "      <td>179779.54</td>\n",
       "    </tr>\n",
       "    <tr>\n",
       "      <th>Invega Sustenna</th>\n",
       "      <td>275</td>\n",
       "      <td>173574.11</td>\n",
       "    </tr>\n",
       "    <tr>\n",
       "      <th>LATUDA</th>\n",
       "      <td>212</td>\n",
       "      <td>123602.91</td>\n",
       "    </tr>\n",
       "    <tr>\n",
       "      <th>INVEGA TRINZA</th>\n",
       "      <td>127</td>\n",
       "      <td>68074.70</td>\n",
       "    </tr>\n",
       "    <tr>\n",
       "      <th>INVEGA SUSTENNA</th>\n",
       "      <td>110</td>\n",
       "      <td>52920.15</td>\n",
       "    </tr>\n",
       "    <tr>\n",
       "      <th>Aristada 441 mg</th>\n",
       "      <td>72</td>\n",
       "      <td>50948.86</td>\n",
       "    </tr>\n",
       "    <tr>\n",
       "      <th>REXULTI</th>\n",
       "      <td>37</td>\n",
       "      <td>25234.35</td>\n",
       "    </tr>\n",
       "    <tr>\n",
       "      <th>Latuda</th>\n",
       "      <td>32</td>\n",
       "      <td>16772.19</td>\n",
       "    </tr>\n",
       "    <tr>\n",
       "      <th>SAPHRIS</th>\n",
       "      <td>4</td>\n",
       "      <td>1989.25</td>\n",
       "    </tr>\n",
       "    <tr>\n",
       "      <th>BREXPIPRAZOLE</th>\n",
       "      <td>17</td>\n",
       "      <td>1055.54</td>\n",
       "    </tr>\n",
       "    <tr>\n",
       "      <th>ABILIFY TABLET</th>\n",
       "      <td>7</td>\n",
       "      <td>198.68</td>\n",
       "    </tr>\n",
       "    <tr>\n",
       "      <th>SUBOXONE SUBLINGUAL FILM</th>\n",
       "      <td>1</td>\n",
       "      <td>125.00</td>\n",
       "    </tr>\n",
       "    <tr>\n",
       "      <th>Brintellix</th>\n",
       "      <td>2</td>\n",
       "      <td>100.46</td>\n",
       "    </tr>\n",
       "    <tr>\n",
       "      <th>No Product</th>\n",
       "      <td>1</td>\n",
       "      <td>100.00</td>\n",
       "    </tr>\n",
       "    <tr>\n",
       "      <th>VRAYLAR</th>\n",
       "      <td>3</td>\n",
       "      <td>98.32</td>\n",
       "    </tr>\n",
       "    <tr>\n",
       "      <th>Invega</th>\n",
       "      <td>1</td>\n",
       "      <td>65.99</td>\n",
       "    </tr>\n",
       "    <tr>\n",
       "      <th>NUEDEXTA</th>\n",
       "      <td>1</td>\n",
       "      <td>20.59</td>\n",
       "    </tr>\n",
       "    <tr>\n",
       "      <th>Vivitrol</th>\n",
       "      <td>1</td>\n",
       "      <td>14.03</td>\n",
       "    </tr>\n",
       "    <tr>\n",
       "      <th>Trintellix</th>\n",
       "      <td>1</td>\n",
       "      <td>10.13</td>\n",
       "    </tr>\n",
       "  </tbody>\n",
       "</table>\n",
       "</div>"
      ],
      "text/plain": [
       "                                                    record_id  payments_amount\n",
       "name_of_drug_or_biological_or_device_or_medical...                            \n",
       "ABILIFY MAINTENA                                          298        179779.54\n",
       "Invega Sustenna                                           275        173574.11\n",
       "LATUDA                                                    212        123602.91\n",
       "INVEGA TRINZA                                             127         68074.70\n",
       "INVEGA SUSTENNA                                           110         52920.15\n",
       "Aristada 441 mg                                            72         50948.86\n",
       "REXULTI                                                    37         25234.35\n",
       "Latuda                                                     32         16772.19\n",
       "SAPHRIS                                                     4          1989.25\n",
       "BREXPIPRAZOLE                                              17          1055.54\n",
       "ABILIFY TABLET                                              7           198.68\n",
       "SUBOXONE SUBLINGUAL FILM                                    1           125.00\n",
       "Brintellix                                                  2           100.46\n",
       "No Product                                                  1           100.00\n",
       "VRAYLAR                                                     3            98.32\n",
       "Invega                                                      1            65.99\n",
       "NUEDEXTA                                                    1            20.59\n",
       "Vivitrol                                                    1            14.03\n",
       "Trintellix                                                  1            10.13"
      ]
     },
     "execution_count": 24,
     "metadata": {},
     "output_type": "execute_result"
    }
   ],
   "source": [
    "ramadan_payments.groupby(\"name_of_drug_or_biological_or_device_or_medical_supply_1\").agg({\"record_id\": len, \"payments_amount\": sum}).sort_values(\"payments_amount\", ascending=False)"
   ]
  },
  {
   "cell_type": "markdown",
   "metadata": {},
   "source": [
    "And it looks like most of his payments related to two drugs, Abilify Maintena and Invega Sustenna. He received at least $406,293.80 in payments relating to the medications. Even though meeting minutes show Ramadan has missed nearly half of the Arizona drug committee meetings since he joined in 2016, he has shown up to the ones that reviewed Invega Sustenna and Abilify Maintena."
   ]
  },
  {
   "cell_type": "markdown",
   "metadata": {},
   "source": [
    "Finally, how much money related to his work as a consultant on Abilify Maintena did New York drug committee member Dr. James Saperstone accept prior to voting on the medication at a 2016 meeting?"
   ]
  },
  {
   "cell_type": "code",
   "execution_count": 25,
   "metadata": {},
   "outputs": [
    {
     "data": {
      "application/javascript": [
       "$(document).ready(\n",
       "    function() {\n",
       "        function appendUniqueDiv(){\n",
       "            // append a div with our uuid so we can check that it's already\n",
       "            // been sent and avoid duplicates on page reload\n",
       "            var notifiedDiv = document.createElement(\"div\")\n",
       "            notifiedDiv.id = \"152b39af-1c7f-483e-b330-9146ea4399a5\"\n",
       "            element.append(notifiedDiv)\n",
       "        }\n",
       "\n",
       "        // only send notifications if the pageload is complete; this will\n",
       "        // help stop extra notifications when a saved notebook is loaded,\n",
       "        // which during testing gives us state \"interactive\", not \"complete\"\n",
       "        if (document.readyState === 'complete') {\n",
       "            // check for the div that signifies that the notification\n",
       "            // was already sent\n",
       "            if (document.getElementById(\"152b39af-1c7f-483e-b330-9146ea4399a5\") === null) {\n",
       "                var notificationPayload = {\"requireInteraction\": false, \"icon\": \"/static/base/images/favicon.ico\", \"body\": \"Cell execution has finished!\"};\n",
       "                if (Notification.permission !== 'denied') {\n",
       "                    if (Notification.permission !== 'granted') { \n",
       "                        Notification.requestPermission(function (permission) {\n",
       "                            if(!('permission' in Notification)) {\n",
       "                                Notification.permission = permission\n",
       "                            }\n",
       "                        })\n",
       "                    }\n",
       "                    if (Notification.permission === 'granted') {\n",
       "                    var notification = new Notification(\"Jupyter Notebook\", notificationPayload)\n",
       "                    appendUniqueDiv()\n",
       "                    notification.onclick = function () {\n",
       "                        window.focus();\n",
       "                        this.close();\n",
       "                        };\n",
       "                    } \n",
       "                }     \n",
       "            }\n",
       "        }\n",
       "    }\n",
       ")\n"
      ],
      "text/plain": [
       "<IPython.core.display.Javascript object>"
      ]
     },
     "metadata": {},
     "output_type": "display_data"
    }
   ],
   "source": [
    "%%notify\n",
    "saperstone_payments = pd.read_sql(\"\"\"\n",
    "CREATE TABLE IF NOT EXISTS saperstone_payments AS\n",
    "SELECT record_id,\n",
    "       date_of_payment,\n",
    "       nature_of_payment_or_transfer_of_value,\n",
    "       name_of_drug_or_biological_or_device_or_medical_supply_1,\n",
    "       sum(total_amount_of_payment_usdollars) AS payments_amount\n",
    "FROM open_payments_general\n",
    "WHERE physician_last_name = 'SAPERSTONE'\n",
    "  AND physician_first_name = 'JAMES'\n",
    "  AND recipient_state = 'NY'\n",
    "GROUP BY record_id,\n",
    "         date_of_payment,\n",
    "         nature_of_payment_or_transfer_of_value,\n",
    "         name_of_drug_or_biological_or_device_or_medical_supply_1;\n",
    "\n",
    "GRANT ALL ON TABLE saperstone_payments TO redash;\n",
    "\n",
    "\n",
    "SELECT *\n",
    "FROM saperstone_payments;\"\"\", con=conn)"
   ]
  },
  {
   "cell_type": "code",
   "execution_count": 26,
   "metadata": {},
   "outputs": [
    {
     "data": {
      "text/html": [
       "<div>\n",
       "<style scoped>\n",
       "    .dataframe tbody tr th:only-of-type {\n",
       "        vertical-align: middle;\n",
       "    }\n",
       "\n",
       "    .dataframe tbody tr th {\n",
       "        vertical-align: top;\n",
       "    }\n",
       "\n",
       "    .dataframe thead th {\n",
       "        text-align: right;\n",
       "    }\n",
       "</style>\n",
       "<table border=\"1\" class=\"dataframe\">\n",
       "  <thead>\n",
       "    <tr style=\"text-align: right;\">\n",
       "      <th></th>\n",
       "      <th>record_id</th>\n",
       "      <th>date_of_payment</th>\n",
       "      <th>nature_of_payment_or_transfer_of_value</th>\n",
       "      <th>name_of_drug_or_biological_or_device_or_medical_supply_1</th>\n",
       "      <th>payments_amount</th>\n",
       "    </tr>\n",
       "  </thead>\n",
       "  <tbody>\n",
       "    <tr>\n",
       "      <th>7</th>\n",
       "      <td>105123594</td>\n",
       "      <td>10/20/2013</td>\n",
       "      <td>Consulting Fee</td>\n",
       "      <td>ABILIFY MAINTENA</td>\n",
       "      <td>3600.00</td>\n",
       "    </tr>\n",
       "    <tr>\n",
       "      <th>8</th>\n",
       "      <td>105123596</td>\n",
       "      <td>11/15/2013</td>\n",
       "      <td>Consulting Fee</td>\n",
       "      <td>ABILIFY MAINTENA</td>\n",
       "      <td>300.00</td>\n",
       "    </tr>\n",
       "    <tr>\n",
       "      <th>35</th>\n",
       "      <td>216380760</td>\n",
       "      <td>05/19/2014</td>\n",
       "      <td>Consulting Fee</td>\n",
       "      <td>ABILIFY MAINTENA</td>\n",
       "      <td>3300.00</td>\n",
       "    </tr>\n",
       "    <tr>\n",
       "      <th>36</th>\n",
       "      <td>216380764</td>\n",
       "      <td>05/19/2014</td>\n",
       "      <td>Consulting Fee</td>\n",
       "      <td>ABILIFY MAINTENA</td>\n",
       "      <td>26.76</td>\n",
       "    </tr>\n",
       "  </tbody>\n",
       "</table>\n",
       "</div>"
      ],
      "text/plain": [
       "    record_id date_of_payment nature_of_payment_or_transfer_of_value  \\\n",
       "7   105123594      10/20/2013                         Consulting Fee   \n",
       "8   105123596      11/15/2013                         Consulting Fee   \n",
       "35  216380760      05/19/2014                         Consulting Fee   \n",
       "36  216380764      05/19/2014                         Consulting Fee   \n",
       "\n",
       "   name_of_drug_or_biological_or_device_or_medical_supply_1  payments_amount  \n",
       "7                                    ABILIFY MAINTENA                3600.00  \n",
       "8                                    ABILIFY MAINTENA                 300.00  \n",
       "35                                   ABILIFY MAINTENA                3300.00  \n",
       "36                                   ABILIFY MAINTENA                  26.76  "
      ]
     },
     "execution_count": 26,
     "metadata": {},
     "output_type": "execute_result"
    }
   ],
   "source": [
    "saperstone_payments[(saperstone_payments[\"name_of_drug_or_biological_or_device_or_medical_supply_1\"].str.contains(\"abilify maintena\", case=False, na=False)) & (saperstone_payments[\"nature_of_payment_or_transfer_of_value\"] == \"Consulting Fee\")]"
   ]
  },
  {
   "cell_type": "markdown",
   "metadata": {},
   "source": [
    "OK. It looks like Dr. Saperstone accepted $7,226.76 related to his work as a consultant on Abilify Maintena prior to voting on the medication in 2016."
   ]
  },
  {
   "cell_type": "markdown",
   "metadata": {
    "collapsed": true
   },
   "source": [
    "## Export the data to Excel for visualization and further analysis"
   ]
  },
  {
   "cell_type": "code",
   "execution_count": 27,
   "metadata": {},
   "outputs": [],
   "source": [
    "writer = pd.ExcelWriter(\"data/doc_payments.xlsx\")\n",
    "duplicates_removed.to_excel(writer, \"Payments by Doctor\", startcol=0, index=False)\n",
    "payments_by_state.to_excel(writer, \"Payments by State\", startcol=0, index=False)\n",
    "writer.save()"
   ]
  },
  {
   "cell_type": "code",
   "execution_count": null,
   "metadata": {},
   "outputs": [],
   "source": []
  }
 ],
 "metadata": {
  "kernelspec": {
   "display_name": "Python 3",
   "language": "python",
   "name": "python3"
  },
  "language_info": {
   "codemirror_mode": {
    "name": "ipython",
    "version": 3
   },
   "file_extension": ".py",
   "mimetype": "text/x-python",
   "name": "python",
   "nbconvert_exporter": "python",
   "pygments_lexer": "ipython3",
   "version": "3.6.4"
  }
 },
 "nbformat": 4,
 "nbformat_minor": 2
}
