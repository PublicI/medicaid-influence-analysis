{
 "cells": [
  {
   "cell_type": "code",
   "execution_count": 1,
   "metadata": {
    "collapsed": true,
    "scrolled": false
   },
   "outputs": [],
   "source": [
    "import numpy as np\n",
    "import pandas as pd\n",
    "import matplotlib.pyplot as plt\n",
    "pd.set_option(\"display.float_format\", lambda x: \"%.2f\" % x) # Suppress scientific notation for float data type"
   ]
  },
  {
   "cell_type": "markdown",
   "metadata": {},
   "source": [
    "## Which drugs are states buying most frequently?"
   ]
  },
  {
   "cell_type": "markdown",
   "metadata": {},
   "source": [
    "First, we need to determine which drugs appear to be outliers as measured by the number of drugs purchased in each state. To get started, query the Medicaid API to return the drug name, the state that bought the drugs and the total number of drugs purchased in 2016."
   ]
  },
  {
   "cell_type": "code",
   "execution_count": 2,
   "metadata": {
    "scrolled": false
   },
   "outputs": [
    {
     "name": "stdout",
     "output_type": "stream",
     "text": [
      "<class 'pandas.core.frame.DataFrame'>\n",
      "RangeIndex: 95081 entries, 0 to 95080\n",
      "Data columns (total 3 columns):\n",
      "product_fda_list_name    95079 non-null object\n",
      "state_code               95081 non-null object\n",
      "sum_units_reimbursed     95081 non-null float64\n",
      "dtypes: float64(1), object(2)\n",
      "memory usage: 2.2+ MB\n"
     ]
    }
   ],
   "source": [
    "query = \"https://data.medicaid.gov/resource/neai-csgh.json?$select=state_code,product_fda_list_name,sum(units_reimbursed)&$where=suppression_used=False%20and%20not%20state_code='XX'&$group=state_code,product_fda_list_name&$limit=4625479&$$app_token=v3AK8nRjxbWjtmIBGHJ9OmMlb\"\n",
    "units = pd.read_json(query)\n",
    "units.info()"
   ]
  },
  {
   "cell_type": "code",
   "execution_count": 3,
   "metadata": {
    "scrolled": false
   },
   "outputs": [
    {
     "data": {
      "text/html": [
       "<div>\n",
       "<style>\n",
       "    .dataframe thead tr:only-child th {\n",
       "        text-align: right;\n",
       "    }\n",
       "\n",
       "    .dataframe thead th {\n",
       "        text-align: left;\n",
       "    }\n",
       "\n",
       "    .dataframe tbody tr th {\n",
       "        vertical-align: top;\n",
       "    }\n",
       "</style>\n",
       "<table border=\"1\" class=\"dataframe\">\n",
       "  <thead>\n",
       "    <tr style=\"text-align: right;\">\n",
       "      <th></th>\n",
       "      <th>product_fda_list_name</th>\n",
       "      <th>state_code</th>\n",
       "      <th>sum_units_reimbursed</th>\n",
       "    </tr>\n",
       "  </thead>\n",
       "  <tbody>\n",
       "    <tr>\n",
       "      <th>0</th>\n",
       "      <td>ZINC OXIDE</td>\n",
       "      <td>KY</td>\n",
       "      <td>417559.25</td>\n",
       "    </tr>\n",
       "    <tr>\n",
       "      <th>1</th>\n",
       "      <td>RAVICTI</td>\n",
       "      <td>TN</td>\n",
       "      <td>15775.00</td>\n",
       "    </tr>\n",
       "    <tr>\n",
       "      <th>2</th>\n",
       "      <td>BICILLIN L</td>\n",
       "      <td>IN</td>\n",
       "      <td>1919.67</td>\n",
       "    </tr>\n",
       "    <tr>\n",
       "      <th>3</th>\n",
       "      <td>Tramadol H</td>\n",
       "      <td>WA</td>\n",
       "      <td>36053.00</td>\n",
       "    </tr>\n",
       "    <tr>\n",
       "      <th>4</th>\n",
       "      <td>NAPROXEN 3</td>\n",
       "      <td>NV</td>\n",
       "      <td>8678.00</td>\n",
       "    </tr>\n",
       "  </tbody>\n",
       "</table>\n",
       "</div>"
      ],
      "text/plain": [
       "  product_fda_list_name state_code  sum_units_reimbursed\n",
       "0            ZINC OXIDE         KY             417559.25\n",
       "1               RAVICTI         TN              15775.00\n",
       "2            BICILLIN L         IN               1919.67\n",
       "3            Tramadol H         WA              36053.00\n",
       "4            NAPROXEN 3         NV               8678.00"
      ]
     },
     "execution_count": 3,
     "metadata": {},
     "output_type": "execute_result"
    }
   ],
   "source": [
    "units.head()"
   ]
  },
  {
   "cell_type": "markdown",
   "metadata": {},
   "source": [
    "Some of our drug names are fully capitalized. Others are not. Since we'll eventually group on that column, we need to standardize that."
   ]
  },
  {
   "cell_type": "code",
   "execution_count": 4,
   "metadata": {
    "scrolled": true
   },
   "outputs": [
    {
     "data": {
      "text/html": [
       "<div>\n",
       "<style>\n",
       "    .dataframe thead tr:only-child th {\n",
       "        text-align: right;\n",
       "    }\n",
       "\n",
       "    .dataframe thead th {\n",
       "        text-align: left;\n",
       "    }\n",
       "\n",
       "    .dataframe tbody tr th {\n",
       "        vertical-align: top;\n",
       "    }\n",
       "</style>\n",
       "<table border=\"1\" class=\"dataframe\">\n",
       "  <thead>\n",
       "    <tr style=\"text-align: right;\">\n",
       "      <th></th>\n",
       "      <th>product_fda_list_name</th>\n",
       "      <th>state_code</th>\n",
       "      <th>sum_units_reimbursed</th>\n",
       "    </tr>\n",
       "  </thead>\n",
       "  <tbody>\n",
       "    <tr>\n",
       "      <th>0</th>\n",
       "      <td>ZINC OXIDE</td>\n",
       "      <td>KY</td>\n",
       "      <td>417559.25</td>\n",
       "    </tr>\n",
       "    <tr>\n",
       "      <th>1</th>\n",
       "      <td>RAVICTI</td>\n",
       "      <td>TN</td>\n",
       "      <td>15775.00</td>\n",
       "    </tr>\n",
       "    <tr>\n",
       "      <th>2</th>\n",
       "      <td>BICILLIN L</td>\n",
       "      <td>IN</td>\n",
       "      <td>1919.67</td>\n",
       "    </tr>\n",
       "    <tr>\n",
       "      <th>3</th>\n",
       "      <td>TRAMADOL H</td>\n",
       "      <td>WA</td>\n",
       "      <td>36053.00</td>\n",
       "    </tr>\n",
       "    <tr>\n",
       "      <th>4</th>\n",
       "      <td>NAPROXEN 3</td>\n",
       "      <td>NV</td>\n",
       "      <td>8678.00</td>\n",
       "    </tr>\n",
       "  </tbody>\n",
       "</table>\n",
       "</div>"
      ],
      "text/plain": [
       "  product_fda_list_name state_code  sum_units_reimbursed\n",
       "0            ZINC OXIDE         KY             417559.25\n",
       "1               RAVICTI         TN              15775.00\n",
       "2            BICILLIN L         IN               1919.67\n",
       "3            TRAMADOL H         WA              36053.00\n",
       "4            NAPROXEN 3         NV               8678.00"
      ]
     },
     "execution_count": 4,
     "metadata": {},
     "output_type": "execute_result"
    }
   ],
   "source": [
    "units[\"product_fda_list_name\"] = units[\"product_fda_list_name\"].str.upper()\n",
    "units.head()"
   ]
  },
  {
   "cell_type": "markdown",
   "metadata": {},
   "source": [
    "Rank the drugs by their units reimbursed within each state."
   ]
  },
  {
   "cell_type": "code",
   "execution_count": 5,
   "metadata": {
    "scrolled": true
   },
   "outputs": [
    {
     "name": "stdout",
     "output_type": "stream",
     "text": [
      "<class 'pandas.core.frame.DataFrame'>\n",
      "RangeIndex: 95081 entries, 0 to 95080\n",
      "Data columns (total 4 columns):\n",
      "product_fda_list_name    95079 non-null object\n",
      "state_code               95081 non-null object\n",
      "sum_units_reimbursed     95081 non-null float64\n",
      "rank                     95081 non-null int32\n",
      "dtypes: float64(1), int32(1), object(2)\n",
      "memory usage: 2.5+ MB\n"
     ]
    }
   ],
   "source": [
    "units[\"rank\"] = units.groupby(\"state_code\")[\"sum_units_reimbursed\"].rank(method=\"min\", ascending=False).astype(int)\n",
    "units.info()"
   ]
  },
  {
   "cell_type": "markdown",
   "metadata": {},
   "source": [
    "Create a new dataframe with the top 10 drugs in each state."
   ]
  },
  {
   "cell_type": "code",
   "execution_count": 6,
   "metadata": {
    "scrolled": true
   },
   "outputs": [
    {
     "name": "stdout",
     "output_type": "stream",
     "text": [
      "<class 'pandas.core.frame.DataFrame'>\n",
      "Int64Index: 510 entries, 73 to 95066\n",
      "Data columns (total 4 columns):\n",
      "product_fda_list_name    510 non-null object\n",
      "state_code               510 non-null object\n",
      "sum_units_reimbursed     510 non-null float64\n",
      "rank                     510 non-null int32\n",
      "dtypes: float64(1), int32(1), object(2)\n",
      "memory usage: 17.9+ KB\n"
     ]
    }
   ],
   "source": [
    "top_10_units = units[units[\"rank\"] <= 10]\n",
    "top_10_units.info()"
   ]
  },
  {
   "cell_type": "markdown",
   "metadata": {},
   "source": [
    "How many times does each drug appear in a state's top-10 list?"
   ]
  },
  {
   "cell_type": "code",
   "execution_count": 7,
   "metadata": {
    "scrolled": false
   },
   "outputs": [
    {
     "name": "stdout",
     "output_type": "stream",
     "text": [
      "<class 'pandas.core.frame.DataFrame'>\n",
      "RangeIndex: 62 entries, 0 to 61\n",
      "Data columns (total 2 columns):\n",
      "product_fda_list_name    62 non-null object\n",
      "count                    62 non-null int64\n",
      "dtypes: int64(1), object(1)\n",
      "memory usage: 1.0+ KB\n"
     ]
    }
   ],
   "source": [
    "counts_units = top_10_units[\"product_fda_list_name\"].value_counts().reset_index() # Create new dataframe of drug counts\n",
    "counts_units.columns = [\"product_fda_list_name\", \"count\"] # Rename columns\n",
    "counts_units.info()"
   ]
  },
  {
   "cell_type": "markdown",
   "metadata": {
    "collapsed": true
   },
   "source": [
    "Merge the dataframes into a single dataframe with both ranks and counts."
   ]
  },
  {
   "cell_type": "code",
   "execution_count": 8,
   "metadata": {
    "scrolled": false
   },
   "outputs": [
    {
     "name": "stdout",
     "output_type": "stream",
     "text": [
      "<class 'pandas.core.frame.DataFrame'>\n",
      "Int64Index: 510 entries, 0 to 509\n",
      "Data columns (total 5 columns):\n",
      "product_fda_list_name    510 non-null object\n",
      "state_code               510 non-null object\n",
      "sum_units_reimbursed     510 non-null float64\n",
      "rank                     510 non-null int32\n",
      "count                    510 non-null int64\n",
      "dtypes: float64(1), int32(1), int64(1), object(2)\n",
      "memory usage: 21.9+ KB\n"
     ]
    }
   ],
   "source": [
    "top_10_units = top_10_units.merge(counts_units, how=\"inner\", on=\"product_fda_list_name\")\n",
    "top_10_units.info()"
   ]
  },
  {
   "cell_type": "markdown",
   "metadata": {
    "collapsed": true
   },
   "source": [
    "Which drugs appear in only a single state's top-10 list?"
   ]
  },
  {
   "cell_type": "code",
   "execution_count": 9,
   "metadata": {
    "scrolled": true
   },
   "outputs": [
    {
     "data": {
      "text/html": [
       "<div>\n",
       "<style>\n",
       "    .dataframe thead tr:only-child th {\n",
       "        text-align: right;\n",
       "    }\n",
       "\n",
       "    .dataframe thead th {\n",
       "        text-align: left;\n",
       "    }\n",
       "\n",
       "    .dataframe tbody tr th {\n",
       "        vertical-align: top;\n",
       "    }\n",
       "</style>\n",
       "<table border=\"1\" class=\"dataframe\">\n",
       "  <thead>\n",
       "    <tr style=\"text-align: right;\">\n",
       "      <th></th>\n",
       "      <th>product_fda_list_name</th>\n",
       "      <th>state_code</th>\n",
       "      <th>sum_units_reimbursed</th>\n",
       "      <th>rank</th>\n",
       "      <th>count</th>\n",
       "    </tr>\n",
       "  </thead>\n",
       "  <tbody>\n",
       "    <tr>\n",
       "      <th>226</th>\n",
       "      <td>ADVATE 5ML</td>\n",
       "      <td>NV</td>\n",
       "      <td>8649028.00</td>\n",
       "      <td>8</td>\n",
       "      <td>1</td>\n",
       "    </tr>\n",
       "    <tr>\n",
       "      <th>500</th>\n",
       "      <td>ALPRAZOLAM</td>\n",
       "      <td>MO</td>\n",
       "      <td>9810078.31</td>\n",
       "      <td>10</td>\n",
       "      <td>1</td>\n",
       "    </tr>\n",
       "    <tr>\n",
       "      <th>427</th>\n",
       "      <td>AMLODIPINE</td>\n",
       "      <td>DC</td>\n",
       "      <td>2354345.13</td>\n",
       "      <td>10</td>\n",
       "      <td>1</td>\n",
       "    </tr>\n",
       "    <tr>\n",
       "      <th>486</th>\n",
       "      <td>AMMONIUM L</td>\n",
       "      <td>NY</td>\n",
       "      <td>61596452.85</td>\n",
       "      <td>8</td>\n",
       "      <td>1</td>\n",
       "    </tr>\n",
       "    <tr>\n",
       "      <th>442</th>\n",
       "      <td>BROMFED DM</td>\n",
       "      <td>TX</td>\n",
       "      <td>61984061.99</td>\n",
       "      <td>7</td>\n",
       "      <td>1</td>\n",
       "    </tr>\n",
       "    <tr>\n",
       "      <th>493</th>\n",
       "      <td>BUPROPION</td>\n",
       "      <td>VT</td>\n",
       "      <td>1365163.50</td>\n",
       "      <td>9</td>\n",
       "      <td>1</td>\n",
       "    </tr>\n",
       "    <tr>\n",
       "      <th>497</th>\n",
       "      <td>CHILDREN I</td>\n",
       "      <td>TX</td>\n",
       "      <td>77695830.83</td>\n",
       "      <td>6</td>\n",
       "      <td>1</td>\n",
       "    </tr>\n",
       "    <tr>\n",
       "      <th>351</th>\n",
       "      <td>CLONAZEPAM</td>\n",
       "      <td>RI</td>\n",
       "      <td>2107665.00</td>\n",
       "      <td>9</td>\n",
       "      <td>1</td>\n",
       "    </tr>\n",
       "    <tr>\n",
       "      <th>501</th>\n",
       "      <td>DEXTROAMP-</td>\n",
       "      <td>MA</td>\n",
       "      <td>14594796.50</td>\n",
       "      <td>8</td>\n",
       "      <td>1</td>\n",
       "    </tr>\n",
       "    <tr>\n",
       "      <th>487</th>\n",
       "      <td>DEXTROSE 5</td>\n",
       "      <td>WV</td>\n",
       "      <td>12265060.00</td>\n",
       "      <td>8</td>\n",
       "      <td>1</td>\n",
       "    </tr>\n",
       "    <tr>\n",
       "      <th>440</th>\n",
       "      <td>FENTANYL 1</td>\n",
       "      <td>MD</td>\n",
       "      <td>58061615.80</td>\n",
       "      <td>1</td>\n",
       "      <td>1</td>\n",
       "    </tr>\n",
       "    <tr>\n",
       "      <th>418</th>\n",
       "      <td>FLUOXETINE</td>\n",
       "      <td>VT</td>\n",
       "      <td>1381718.00</td>\n",
       "      <td>8</td>\n",
       "      <td>1</td>\n",
       "    </tr>\n",
       "    <tr>\n",
       "      <th>506</th>\n",
       "      <td>GAVILYTE-N</td>\n",
       "      <td>MT</td>\n",
       "      <td>2496000.00</td>\n",
       "      <td>7</td>\n",
       "      <td>1</td>\n",
       "    </tr>\n",
       "    <tr>\n",
       "      <th>509</th>\n",
       "      <td>HEPARIN SO</td>\n",
       "      <td>WV</td>\n",
       "      <td>46224063.55</td>\n",
       "      <td>4</td>\n",
       "      <td>1</td>\n",
       "    </tr>\n",
       "    <tr>\n",
       "      <th>498</th>\n",
       "      <td>HEPARIN-NS</td>\n",
       "      <td>WV</td>\n",
       "      <td>22624775.00</td>\n",
       "      <td>6</td>\n",
       "      <td>1</td>\n",
       "    </tr>\n",
       "    <tr>\n",
       "      <th>441</th>\n",
       "      <td>HYDROXYZIN</td>\n",
       "      <td>AR</td>\n",
       "      <td>8245302.62</td>\n",
       "      <td>5</td>\n",
       "      <td>1</td>\n",
       "    </tr>\n",
       "    <tr>\n",
       "      <th>499</th>\n",
       "      <td>LIDOCAINE</td>\n",
       "      <td>NH</td>\n",
       "      <td>3516121.49</td>\n",
       "      <td>3</td>\n",
       "      <td>1</td>\n",
       "    </tr>\n",
       "    <tr>\n",
       "      <th>508</th>\n",
       "      <td>MAPAP</td>\n",
       "      <td>MN</td>\n",
       "      <td>13698340.40</td>\n",
       "      <td>7</td>\n",
       "      <td>1</td>\n",
       "    </tr>\n",
       "    <tr>\n",
       "      <th>408</th>\n",
       "      <td>NULYTELY/F</td>\n",
       "      <td>ME</td>\n",
       "      <td>3608000.00</td>\n",
       "      <td>5</td>\n",
       "      <td>1</td>\n",
       "    </tr>\n",
       "    <tr>\n",
       "      <th>494</th>\n",
       "      <td>RYNEX DM L</td>\n",
       "      <td>MS</td>\n",
       "      <td>17910198.42</td>\n",
       "      <td>3</td>\n",
       "      <td>1</td>\n",
       "    </tr>\n",
       "    <tr>\n",
       "      <th>426</th>\n",
       "      <td>SALINE 0.9</td>\n",
       "      <td>WV</td>\n",
       "      <td>51322227.50</td>\n",
       "      <td>3</td>\n",
       "      <td>1</td>\n",
       "    </tr>\n",
       "    <tr>\n",
       "      <th>445</th>\n",
       "      <td>SERTRALINE</td>\n",
       "      <td>VT</td>\n",
       "      <td>1352391.50</td>\n",
       "      <td>10</td>\n",
       "      <td>1</td>\n",
       "    </tr>\n",
       "    <tr>\n",
       "      <th>507</th>\n",
       "      <td>SUBOXONE S</td>\n",
       "      <td>VT</td>\n",
       "      <td>1568555.50</td>\n",
       "      <td>6</td>\n",
       "      <td>1</td>\n",
       "    </tr>\n",
       "  </tbody>\n",
       "</table>\n",
       "</div>"
      ],
      "text/plain": [
       "    product_fda_list_name state_code  sum_units_reimbursed  rank  count\n",
       "226            ADVATE 5ML         NV            8649028.00     8      1\n",
       "500            ALPRAZOLAM         MO            9810078.31    10      1\n",
       "427            AMLODIPINE         DC            2354345.13    10      1\n",
       "486            AMMONIUM L         NY           61596452.85     8      1\n",
       "442            BROMFED DM         TX           61984061.99     7      1\n",
       "493             BUPROPION         VT            1365163.50     9      1\n",
       "497            CHILDREN I         TX           77695830.83     6      1\n",
       "351            CLONAZEPAM         RI            2107665.00     9      1\n",
       "501            DEXTROAMP-         MA           14594796.50     8      1\n",
       "487            DEXTROSE 5         WV           12265060.00     8      1\n",
       "440            FENTANYL 1         MD           58061615.80     1      1\n",
       "418            FLUOXETINE         VT            1381718.00     8      1\n",
       "506            GAVILYTE-N         MT            2496000.00     7      1\n",
       "509            HEPARIN SO         WV           46224063.55     4      1\n",
       "498            HEPARIN-NS         WV           22624775.00     6      1\n",
       "441            HYDROXYZIN         AR            8245302.62     5      1\n",
       "499             LIDOCAINE         NH            3516121.49     3      1\n",
       "508                 MAPAP         MN           13698340.40     7      1\n",
       "408            NULYTELY/F         ME            3608000.00     5      1\n",
       "494            RYNEX DM L         MS           17910198.42     3      1\n",
       "426            SALINE 0.9         WV           51322227.50     3      1\n",
       "445            SERTRALINE         VT            1352391.50    10      1\n",
       "507            SUBOXONE S         VT            1568555.50     6      1"
      ]
     },
     "execution_count": 9,
     "metadata": {},
     "output_type": "execute_result"
    }
   ],
   "source": [
    "outliers_units = top_10_units[top_10_units[\"count\"] == 1]\n",
    "outliers_units.sort_values(\"product_fda_list_name\", ascending=True)"
   ]
  },
  {
   "cell_type": "markdown",
   "metadata": {},
   "source": [
    "Export the outliers data as an Excel file."
   ]
  },
  {
   "cell_type": "code",
   "execution_count": 10,
   "metadata": {
    "collapsed": true,
    "scrolled": false
   },
   "outputs": [],
   "source": [
    "outliers_units.to_excel(\"outliers_units.xlsx\")"
   ]
  },
  {
   "cell_type": "markdown",
   "metadata": {},
   "source": [
    "## Which drugs are states spending the most money on?"
   ]
  },
  {
   "cell_type": "markdown",
   "metadata": {
    "collapsed": true
   },
   "source": [
    "So far, we've determined which drugs appear to be outliers as measured by the number of drugs purchased in each state. We now need to determine which drugs appear to be outliers as measured by the total amount of money spent on the drugs. To get started, query the Medicaid API to return the drug name, the state that bought the drugs and the total amount reimbursed for drugs purchased in 2016."
   ]
  },
  {
   "cell_type": "code",
   "execution_count": 11,
   "metadata": {
    "scrolled": false
   },
   "outputs": [
    {
     "name": "stdout",
     "output_type": "stream",
     "text": [
      "<class 'pandas.core.frame.DataFrame'>\n",
      "RangeIndex: 95081 entries, 0 to 95080\n",
      "Data columns (total 3 columns):\n",
      "product_fda_list_name          95079 non-null object\n",
      "state_code                     95081 non-null object\n",
      "sum_total_amount_reimbursed    95081 non-null float64\n",
      "dtypes: float64(1), object(2)\n",
      "memory usage: 2.2+ MB\n"
     ]
    }
   ],
   "source": [
    "query = \"https://data.medicaid.gov/resource/neai-csgh.json?$select=state_code,product_fda_list_name,sum(total_amount_reimbursed)&$where=suppression_used=False%20and%20not%20state_code='XX'&$group=state_code,product_fda_list_name&$limit=4625479&$$app_token=v3AK8nRjxbWjtmIBGHJ9OmMlb\"\n",
    "amount = pd.read_json(query)\n",
    "amount.info()"
   ]
  },
  {
   "cell_type": "code",
   "execution_count": 12,
   "metadata": {
    "scrolled": true
   },
   "outputs": [
    {
     "data": {
      "text/html": [
       "<div>\n",
       "<style>\n",
       "    .dataframe thead tr:only-child th {\n",
       "        text-align: right;\n",
       "    }\n",
       "\n",
       "    .dataframe thead th {\n",
       "        text-align: left;\n",
       "    }\n",
       "\n",
       "    .dataframe tbody tr th {\n",
       "        vertical-align: top;\n",
       "    }\n",
       "</style>\n",
       "<table border=\"1\" class=\"dataframe\">\n",
       "  <thead>\n",
       "    <tr style=\"text-align: right;\">\n",
       "      <th></th>\n",
       "      <th>product_fda_list_name</th>\n",
       "      <th>state_code</th>\n",
       "      <th>sum_total_amount_reimbursed</th>\n",
       "    </tr>\n",
       "  </thead>\n",
       "  <tbody>\n",
       "    <tr>\n",
       "      <th>0</th>\n",
       "      <td>ZINC OXIDE</td>\n",
       "      <td>KY</td>\n",
       "      <td>44159.87</td>\n",
       "    </tr>\n",
       "    <tr>\n",
       "      <th>1</th>\n",
       "      <td>RAVICTI</td>\n",
       "      <td>TN</td>\n",
       "      <td>2396199.88</td>\n",
       "    </tr>\n",
       "    <tr>\n",
       "      <th>2</th>\n",
       "      <td>BICILLIN L</td>\n",
       "      <td>IN</td>\n",
       "      <td>49854.37</td>\n",
       "    </tr>\n",
       "    <tr>\n",
       "      <th>3</th>\n",
       "      <td>Tramadol H</td>\n",
       "      <td>WA</td>\n",
       "      <td>15903.36</td>\n",
       "    </tr>\n",
       "    <tr>\n",
       "      <th>4</th>\n",
       "      <td>NAPROXEN 3</td>\n",
       "      <td>NV</td>\n",
       "      <td>1353.14</td>\n",
       "    </tr>\n",
       "  </tbody>\n",
       "</table>\n",
       "</div>"
      ],
      "text/plain": [
       "  product_fda_list_name state_code  sum_total_amount_reimbursed\n",
       "0            ZINC OXIDE         KY                     44159.87\n",
       "1               RAVICTI         TN                   2396199.88\n",
       "2            BICILLIN L         IN                     49854.37\n",
       "3            Tramadol H         WA                     15903.36\n",
       "4            NAPROXEN 3         NV                      1353.14"
      ]
     },
     "execution_count": 12,
     "metadata": {},
     "output_type": "execute_result"
    }
   ],
   "source": [
    "amount.head()"
   ]
  },
  {
   "cell_type": "markdown",
   "metadata": {},
   "source": [
    "Some of our drug names are fully capitalized. Others are not. Since we'll eventually group on that column, we need to standardize that."
   ]
  },
  {
   "cell_type": "code",
   "execution_count": 13,
   "metadata": {},
   "outputs": [
    {
     "data": {
      "text/html": [
       "<div>\n",
       "<style>\n",
       "    .dataframe thead tr:only-child th {\n",
       "        text-align: right;\n",
       "    }\n",
       "\n",
       "    .dataframe thead th {\n",
       "        text-align: left;\n",
       "    }\n",
       "\n",
       "    .dataframe tbody tr th {\n",
       "        vertical-align: top;\n",
       "    }\n",
       "</style>\n",
       "<table border=\"1\" class=\"dataframe\">\n",
       "  <thead>\n",
       "    <tr style=\"text-align: right;\">\n",
       "      <th></th>\n",
       "      <th>product_fda_list_name</th>\n",
       "      <th>state_code</th>\n",
       "      <th>sum_total_amount_reimbursed</th>\n",
       "    </tr>\n",
       "  </thead>\n",
       "  <tbody>\n",
       "    <tr>\n",
       "      <th>0</th>\n",
       "      <td>ZINC OXIDE</td>\n",
       "      <td>KY</td>\n",
       "      <td>44159.87</td>\n",
       "    </tr>\n",
       "    <tr>\n",
       "      <th>1</th>\n",
       "      <td>RAVICTI</td>\n",
       "      <td>TN</td>\n",
       "      <td>2396199.88</td>\n",
       "    </tr>\n",
       "    <tr>\n",
       "      <th>2</th>\n",
       "      <td>BICILLIN L</td>\n",
       "      <td>IN</td>\n",
       "      <td>49854.37</td>\n",
       "    </tr>\n",
       "    <tr>\n",
       "      <th>3</th>\n",
       "      <td>TRAMADOL H</td>\n",
       "      <td>WA</td>\n",
       "      <td>15903.36</td>\n",
       "    </tr>\n",
       "    <tr>\n",
       "      <th>4</th>\n",
       "      <td>NAPROXEN 3</td>\n",
       "      <td>NV</td>\n",
       "      <td>1353.14</td>\n",
       "    </tr>\n",
       "  </tbody>\n",
       "</table>\n",
       "</div>"
      ],
      "text/plain": [
       "  product_fda_list_name state_code  sum_total_amount_reimbursed\n",
       "0            ZINC OXIDE         KY                     44159.87\n",
       "1               RAVICTI         TN                   2396199.88\n",
       "2            BICILLIN L         IN                     49854.37\n",
       "3            TRAMADOL H         WA                     15903.36\n",
       "4            NAPROXEN 3         NV                      1353.14"
      ]
     },
     "execution_count": 13,
     "metadata": {},
     "output_type": "execute_result"
    }
   ],
   "source": [
    "amount[\"product_fda_list_name\"] = amount[\"product_fda_list_name\"].str.upper()\n",
    "amount.head()"
   ]
  },
  {
   "cell_type": "markdown",
   "metadata": {
    "collapsed": true
   },
   "source": [
    "Rank the drugs by their amount reimbursed within each state."
   ]
  },
  {
   "cell_type": "code",
   "execution_count": 14,
   "metadata": {
    "scrolled": true
   },
   "outputs": [
    {
     "name": "stdout",
     "output_type": "stream",
     "text": [
      "<class 'pandas.core.frame.DataFrame'>\n",
      "RangeIndex: 95081 entries, 0 to 95080\n",
      "Data columns (total 4 columns):\n",
      "product_fda_list_name          95079 non-null object\n",
      "state_code                     95081 non-null object\n",
      "sum_total_amount_reimbursed    95081 non-null float64\n",
      "rank                           95081 non-null int32\n",
      "dtypes: float64(1), int32(1), object(2)\n",
      "memory usage: 2.5+ MB\n"
     ]
    }
   ],
   "source": [
    "amount[\"rank\"] = amount.groupby(\"state_code\")[\"sum_total_amount_reimbursed\"].rank(method=\"min\", ascending=False).astype(int)\n",
    "amount.info()"
   ]
  },
  {
   "cell_type": "markdown",
   "metadata": {},
   "source": [
    "Create a new dataframe with the top 10 drugs in each state."
   ]
  },
  {
   "cell_type": "code",
   "execution_count": 15,
   "metadata": {
    "scrolled": false
   },
   "outputs": [
    {
     "name": "stdout",
     "output_type": "stream",
     "text": [
      "<class 'pandas.core.frame.DataFrame'>\n",
      "Int64Index: 510 entries, 171 to 94787\n",
      "Data columns (total 4 columns):\n",
      "product_fda_list_name          510 non-null object\n",
      "state_code                     510 non-null object\n",
      "sum_total_amount_reimbursed    510 non-null float64\n",
      "rank                           510 non-null int32\n",
      "dtypes: float64(1), int32(1), object(2)\n",
      "memory usage: 17.9+ KB\n"
     ]
    }
   ],
   "source": [
    "top_10_amount = amount[amount[\"rank\"] <= 10]\n",
    "top_10_amount.info()"
   ]
  },
  {
   "cell_type": "markdown",
   "metadata": {},
   "source": [
    "How many times does each drug appear in a state's top-10 list?"
   ]
  },
  {
   "cell_type": "code",
   "execution_count": 16,
   "metadata": {
    "scrolled": false
   },
   "outputs": [
    {
     "name": "stdout",
     "output_type": "stream",
     "text": [
      "<class 'pandas.core.frame.DataFrame'>\n",
      "RangeIndex: 111 entries, 0 to 110\n",
      "Data columns (total 2 columns):\n",
      "product_fda_list_name    111 non-null object\n",
      "count                    111 non-null int64\n",
      "dtypes: int64(1), object(1)\n",
      "memory usage: 1.8+ KB\n"
     ]
    }
   ],
   "source": [
    "counts_amount = top_10_amount[\"product_fda_list_name\"].value_counts().reset_index() # Create new dataframe of drug counts\n",
    "counts_amount.columns = [\"product_fda_list_name\", \"count\"] # Rename columns\n",
    "counts_amount.info()"
   ]
  },
  {
   "cell_type": "markdown",
   "metadata": {},
   "source": [
    "Merge the dataframes into a single dataframe with both ranks and counts."
   ]
  },
  {
   "cell_type": "code",
   "execution_count": 17,
   "metadata": {
    "scrolled": false
   },
   "outputs": [
    {
     "name": "stdout",
     "output_type": "stream",
     "text": [
      "<class 'pandas.core.frame.DataFrame'>\n",
      "Int64Index: 510 entries, 0 to 509\n",
      "Data columns (total 5 columns):\n",
      "product_fda_list_name          510 non-null object\n",
      "state_code                     510 non-null object\n",
      "sum_total_amount_reimbursed    510 non-null float64\n",
      "rank                           510 non-null int32\n",
      "count                          510 non-null int64\n",
      "dtypes: float64(1), int32(1), int64(1), object(2)\n",
      "memory usage: 21.9+ KB\n"
     ]
    }
   ],
   "source": [
    "top_10_amount = top_10_amount.merge(counts_amount, how=\"inner\", on=\"product_fda_list_name\")\n",
    "top_10_amount.info()"
   ]
  },
  {
   "cell_type": "markdown",
   "metadata": {},
   "source": [
    "Which drugs appear in only a single state's top-10 list?"
   ]
  },
  {
   "cell_type": "code",
   "execution_count": 18,
   "metadata": {
    "scrolled": true
   },
   "outputs": [
    {
     "data": {
      "text/html": [
       "<div>\n",
       "<style>\n",
       "    .dataframe thead tr:only-child th {\n",
       "        text-align: right;\n",
       "    }\n",
       "\n",
       "    .dataframe thead th {\n",
       "        text-align: left;\n",
       "    }\n",
       "\n",
       "    .dataframe tbody tr th {\n",
       "        vertical-align: top;\n",
       "    }\n",
       "</style>\n",
       "<table border=\"1\" class=\"dataframe\">\n",
       "  <thead>\n",
       "    <tr style=\"text-align: right;\">\n",
       "      <th></th>\n",
       "      <th>product_fda_list_name</th>\n",
       "      <th>state_code</th>\n",
       "      <th>sum_total_amount_reimbursed</th>\n",
       "      <th>rank</th>\n",
       "      <th>count</th>\n",
       "    </tr>\n",
       "  </thead>\n",
       "  <tbody>\n",
       "    <tr>\n",
       "      <th>410</th>\n",
       "      <td>ABILIFY 10</td>\n",
       "      <td>MT</td>\n",
       "      <td>2452464.82</td>\n",
       "      <td>7</td>\n",
       "      <td>1</td>\n",
       "    </tr>\n",
       "    <tr>\n",
       "      <th>365</th>\n",
       "      <td>ADVAIR HFA</td>\n",
       "      <td>ME</td>\n",
       "      <td>3750448.51</td>\n",
       "      <td>9</td>\n",
       "      <td>1</td>\n",
       "    </tr>\n",
       "    <tr>\n",
       "      <th>209</th>\n",
       "      <td>ADVATE 5ML</td>\n",
       "      <td>NV</td>\n",
       "      <td>12833381.30</td>\n",
       "      <td>3</td>\n",
       "      <td>1</td>\n",
       "    </tr>\n",
       "    <tr>\n",
       "      <th>403</th>\n",
       "      <td>ARANESP (D</td>\n",
       "      <td>SD</td>\n",
       "      <td>1961736.07</td>\n",
       "      <td>9</td>\n",
       "      <td>1</td>\n",
       "    </tr>\n",
       "    <tr>\n",
       "      <th>501</th>\n",
       "      <td>COMPLERA</td>\n",
       "      <td>NJ</td>\n",
       "      <td>20299740.37</td>\n",
       "      <td>10</td>\n",
       "      <td>1</td>\n",
       "    </tr>\n",
       "    <tr>\n",
       "      <th>416</th>\n",
       "      <td>COMPLERA T</td>\n",
       "      <td>DC</td>\n",
       "      <td>5734734.51</td>\n",
       "      <td>9</td>\n",
       "      <td>1</td>\n",
       "    </tr>\n",
       "    <tr>\n",
       "      <th>503</th>\n",
       "      <td>DEXTROAMP-</td>\n",
       "      <td>MA</td>\n",
       "      <td>24331641.31</td>\n",
       "      <td>6</td>\n",
       "      <td>1</td>\n",
       "    </tr>\n",
       "    <tr>\n",
       "      <th>417</th>\n",
       "      <td>DULERA INH</td>\n",
       "      <td>AL</td>\n",
       "      <td>12122809.43</td>\n",
       "      <td>6</td>\n",
       "      <td>1</td>\n",
       "    </tr>\n",
       "    <tr>\n",
       "      <th>498</th>\n",
       "      <td>EPCLUSA</td>\n",
       "      <td>NH</td>\n",
       "      <td>2185523.57</td>\n",
       "      <td>7</td>\n",
       "      <td>1</td>\n",
       "    </tr>\n",
       "    <tr>\n",
       "      <th>323</th>\n",
       "      <td>EPCLUSA  4</td>\n",
       "      <td>WA</td>\n",
       "      <td>17715291.62</td>\n",
       "      <td>6</td>\n",
       "      <td>1</td>\n",
       "    </tr>\n",
       "    <tr>\n",
       "      <th>473</th>\n",
       "      <td>EPOGEN (EP</td>\n",
       "      <td>SD</td>\n",
       "      <td>10150030.30</td>\n",
       "      <td>1</td>\n",
       "      <td>1</td>\n",
       "    </tr>\n",
       "    <tr>\n",
       "      <th>485</th>\n",
       "      <td>FENTANYL C</td>\n",
       "      <td>VA</td>\n",
       "      <td>15781613.90</td>\n",
       "      <td>3</td>\n",
       "      <td>1</td>\n",
       "    </tr>\n",
       "    <tr>\n",
       "      <th>502</th>\n",
       "      <td>GABAPENTIN</td>\n",
       "      <td>KY</td>\n",
       "      <td>21820716.65</td>\n",
       "      <td>10</td>\n",
       "      <td>1</td>\n",
       "    </tr>\n",
       "    <tr>\n",
       "      <th>257</th>\n",
       "      <td>GENVOYA</td>\n",
       "      <td>NV</td>\n",
       "      <td>6258759.39</td>\n",
       "      <td>7</td>\n",
       "      <td>1</td>\n",
       "    </tr>\n",
       "    <tr>\n",
       "      <th>469</th>\n",
       "      <td>HECTOROL I</td>\n",
       "      <td>SD</td>\n",
       "      <td>3686857.55</td>\n",
       "      <td>3</td>\n",
       "      <td>1</td>\n",
       "    </tr>\n",
       "    <tr>\n",
       "      <th>504</th>\n",
       "      <td>HEPARIN SO</td>\n",
       "      <td>SD</td>\n",
       "      <td>3418499.91</td>\n",
       "      <td>4</td>\n",
       "      <td>1</td>\n",
       "    </tr>\n",
       "    <tr>\n",
       "      <th>465</th>\n",
       "      <td>HUMALOG 10</td>\n",
       "      <td>MA</td>\n",
       "      <td>22179876.21</td>\n",
       "      <td>9</td>\n",
       "      <td>1</td>\n",
       "    </tr>\n",
       "    <tr>\n",
       "      <th>489</th>\n",
       "      <td>HUMULIN N</td>\n",
       "      <td>HI</td>\n",
       "      <td>10195189.40</td>\n",
       "      <td>10</td>\n",
       "      <td>1</td>\n",
       "    </tr>\n",
       "    <tr>\n",
       "      <th>256</th>\n",
       "      <td>HYDROCODON</td>\n",
       "      <td>HI</td>\n",
       "      <td>11152285.42</td>\n",
       "      <td>9</td>\n",
       "      <td>1</td>\n",
       "    </tr>\n",
       "    <tr>\n",
       "      <th>505</th>\n",
       "      <td>HYDROMORPH</td>\n",
       "      <td>VA</td>\n",
       "      <td>11584997.27</td>\n",
       "      <td>6</td>\n",
       "      <td>1</td>\n",
       "    </tr>\n",
       "    <tr>\n",
       "      <th>475</th>\n",
       "      <td>INFLIXIMAB</td>\n",
       "      <td>RI</td>\n",
       "      <td>5382354.42</td>\n",
       "      <td>4</td>\n",
       "      <td>1</td>\n",
       "    </tr>\n",
       "    <tr>\n",
       "      <th>508</th>\n",
       "      <td>LACTATED R</td>\n",
       "      <td>VA</td>\n",
       "      <td>11065081.12</td>\n",
       "      <td>8</td>\n",
       "      <td>1</td>\n",
       "    </tr>\n",
       "    <tr>\n",
       "      <th>490</th>\n",
       "      <td>LATUDA  LU</td>\n",
       "      <td>CA</td>\n",
       "      <td>153092548.28</td>\n",
       "      <td>4</td>\n",
       "      <td>1</td>\n",
       "    </tr>\n",
       "    <tr>\n",
       "      <th>474</th>\n",
       "      <td>METADATE C</td>\n",
       "      <td>OK</td>\n",
       "      <td>7215924.32</td>\n",
       "      <td>7</td>\n",
       "      <td>1</td>\n",
       "    </tr>\n",
       "    <tr>\n",
       "      <th>497</th>\n",
       "      <td>MIXED AMPH</td>\n",
       "      <td>RI</td>\n",
       "      <td>2942994.84</td>\n",
       "      <td>10</td>\n",
       "      <td>1</td>\n",
       "    </tr>\n",
       "    <tr>\n",
       "      <th>491</th>\n",
       "      <td>NASONEX 50</td>\n",
       "      <td>TX</td>\n",
       "      <td>51677228.06</td>\n",
       "      <td>5</td>\n",
       "      <td>1</td>\n",
       "    </tr>\n",
       "    <tr>\n",
       "      <th>402</th>\n",
       "      <td>NASONEX NA</td>\n",
       "      <td>CT</td>\n",
       "      <td>14977361.90</td>\n",
       "      <td>10</td>\n",
       "      <td>1</td>\n",
       "    </tr>\n",
       "    <tr>\n",
       "      <th>464</th>\n",
       "      <td>NEXIUM 40M</td>\n",
       "      <td>CT</td>\n",
       "      <td>16997841.97</td>\n",
       "      <td>9</td>\n",
       "      <td>1</td>\n",
       "    </tr>\n",
       "    <tr>\n",
       "      <th>366</th>\n",
       "      <td>NEXIUM DR</td>\n",
       "      <td>TX</td>\n",
       "      <td>82383874.27</td>\n",
       "      <td>1</td>\n",
       "      <td>1</td>\n",
       "    </tr>\n",
       "    <tr>\n",
       "      <th>287</th>\n",
       "      <td>NOVOLOG FL</td>\n",
       "      <td>MN</td>\n",
       "      <td>19269013.09</td>\n",
       "      <td>4</td>\n",
       "      <td>1</td>\n",
       "    </tr>\n",
       "    <tr>\n",
       "      <th>407</th>\n",
       "      <td>PARICALCIT</td>\n",
       "      <td>SD</td>\n",
       "      <td>3848074.48</td>\n",
       "      <td>2</td>\n",
       "      <td>1</td>\n",
       "    </tr>\n",
       "    <tr>\n",
       "      <th>468</th>\n",
       "      <td>QVAR</td>\n",
       "      <td>MI</td>\n",
       "      <td>33638006.52</td>\n",
       "      <td>9</td>\n",
       "      <td>1</td>\n",
       "    </tr>\n",
       "    <tr>\n",
       "      <th>476</th>\n",
       "      <td>QVAR INHAL</td>\n",
       "      <td>CA</td>\n",
       "      <td>95572799.12</td>\n",
       "      <td>9</td>\n",
       "      <td>1</td>\n",
       "    </tr>\n",
       "    <tr>\n",
       "      <th>449</th>\n",
       "      <td>RENVELA 80</td>\n",
       "      <td>HI</td>\n",
       "      <td>15181247.42</td>\n",
       "      <td>5</td>\n",
       "      <td>1</td>\n",
       "    </tr>\n",
       "    <tr>\n",
       "      <th>418</th>\n",
       "      <td>SINGULAIR</td>\n",
       "      <td>MS</td>\n",
       "      <td>8174332.62</td>\n",
       "      <td>3</td>\n",
       "      <td>1</td>\n",
       "    </tr>\n",
       "    <tr>\n",
       "      <th>448</th>\n",
       "      <td>SODIUM CL</td>\n",
       "      <td>VA</td>\n",
       "      <td>10956647.50</td>\n",
       "      <td>10</td>\n",
       "      <td>1</td>\n",
       "    </tr>\n",
       "    <tr>\n",
       "      <th>507</th>\n",
       "      <td>SOLIRIS</td>\n",
       "      <td>DE</td>\n",
       "      <td>2701195.38</td>\n",
       "      <td>9</td>\n",
       "      <td>1</td>\n",
       "    </tr>\n",
       "    <tr>\n",
       "      <th>509</th>\n",
       "      <td>SPIRIVA</td>\n",
       "      <td>WV</td>\n",
       "      <td>9681236.13</td>\n",
       "      <td>9</td>\n",
       "      <td>1</td>\n",
       "    </tr>\n",
       "    <tr>\n",
       "      <th>455</th>\n",
       "      <td>TIVICAY 50</td>\n",
       "      <td>DC</td>\n",
       "      <td>5033723.16</td>\n",
       "      <td>10</td>\n",
       "      <td>1</td>\n",
       "    </tr>\n",
       "    <tr>\n",
       "      <th>506</th>\n",
       "      <td>TYSABRI (N</td>\n",
       "      <td>DE</td>\n",
       "      <td>2910492.99</td>\n",
       "      <td>8</td>\n",
       "      <td>1</td>\n",
       "    </tr>\n",
       "    <tr>\n",
       "      <th>210</th>\n",
       "      <td>VENOFER</td>\n",
       "      <td>OR</td>\n",
       "      <td>13757618.11</td>\n",
       "      <td>5</td>\n",
       "      <td>1</td>\n",
       "    </tr>\n",
       "    <tr>\n",
       "      <th>0</th>\n",
       "      <td>VIREAD</td>\n",
       "      <td>NY</td>\n",
       "      <td>83016865.75</td>\n",
       "      <td>7</td>\n",
       "      <td>1</td>\n",
       "    </tr>\n",
       "    <tr>\n",
       "      <th>500</th>\n",
       "      <td>VIVITROL (</td>\n",
       "      <td>OH</td>\n",
       "      <td>40205402.91</td>\n",
       "      <td>9</td>\n",
       "      <td>1</td>\n",
       "    </tr>\n",
       "    <tr>\n",
       "      <th>488</th>\n",
       "      <td>VIVITROL 3</td>\n",
       "      <td>MA</td>\n",
       "      <td>23285887.81</td>\n",
       "      <td>7</td>\n",
       "      <td>1</td>\n",
       "    </tr>\n",
       "    <tr>\n",
       "      <th>404</th>\n",
       "      <td>WATER STER</td>\n",
       "      <td>SD</td>\n",
       "      <td>1992375.76</td>\n",
       "      <td>8</td>\n",
       "      <td>1</td>\n",
       "    </tr>\n",
       "    <tr>\n",
       "      <th>499</th>\n",
       "      <td>ZEMPLAR, 5</td>\n",
       "      <td>SD</td>\n",
       "      <td>2330354.13</td>\n",
       "      <td>6</td>\n",
       "      <td>1</td>\n",
       "    </tr>\n",
       "    <tr>\n",
       "      <th>496</th>\n",
       "      <td>ZEPATIER 5</td>\n",
       "      <td>NM</td>\n",
       "      <td>8353473.10</td>\n",
       "      <td>9</td>\n",
       "      <td>1</td>\n",
       "    </tr>\n",
       "  </tbody>\n",
       "</table>\n",
       "</div>"
      ],
      "text/plain": [
       "    product_fda_list_name state_code  sum_total_amount_reimbursed  rank  count\n",
       "410            ABILIFY 10         MT                   2452464.82     7      1\n",
       "365            ADVAIR HFA         ME                   3750448.51     9      1\n",
       "209            ADVATE 5ML         NV                  12833381.30     3      1\n",
       "403            ARANESP (D         SD                   1961736.07     9      1\n",
       "501              COMPLERA         NJ                  20299740.37    10      1\n",
       "416            COMPLERA T         DC                   5734734.51     9      1\n",
       "503            DEXTROAMP-         MA                  24331641.31     6      1\n",
       "417            DULERA INH         AL                  12122809.43     6      1\n",
       "498               EPCLUSA         NH                   2185523.57     7      1\n",
       "323            EPCLUSA  4         WA                  17715291.62     6      1\n",
       "473            EPOGEN (EP         SD                  10150030.30     1      1\n",
       "485            FENTANYL C         VA                  15781613.90     3      1\n",
       "502            GABAPENTIN         KY                  21820716.65    10      1\n",
       "257               GENVOYA         NV                   6258759.39     7      1\n",
       "469            HECTOROL I         SD                   3686857.55     3      1\n",
       "504            HEPARIN SO         SD                   3418499.91     4      1\n",
       "465            HUMALOG 10         MA                  22179876.21     9      1\n",
       "489             HUMULIN N         HI                  10195189.40    10      1\n",
       "256            HYDROCODON         HI                  11152285.42     9      1\n",
       "505            HYDROMORPH         VA                  11584997.27     6      1\n",
       "475            INFLIXIMAB         RI                   5382354.42     4      1\n",
       "508            LACTATED R         VA                  11065081.12     8      1\n",
       "490            LATUDA  LU         CA                 153092548.28     4      1\n",
       "474            METADATE C         OK                   7215924.32     7      1\n",
       "497            MIXED AMPH         RI                   2942994.84    10      1\n",
       "491            NASONEX 50         TX                  51677228.06     5      1\n",
       "402            NASONEX NA         CT                  14977361.90    10      1\n",
       "464            NEXIUM 40M         CT                  16997841.97     9      1\n",
       "366             NEXIUM DR         TX                  82383874.27     1      1\n",
       "287            NOVOLOG FL         MN                  19269013.09     4      1\n",
       "407            PARICALCIT         SD                   3848074.48     2      1\n",
       "468                  QVAR         MI                  33638006.52     9      1\n",
       "476            QVAR INHAL         CA                  95572799.12     9      1\n",
       "449            RENVELA 80         HI                  15181247.42     5      1\n",
       "418             SINGULAIR         MS                   8174332.62     3      1\n",
       "448             SODIUM CL         VA                  10956647.50    10      1\n",
       "507               SOLIRIS         DE                   2701195.38     9      1\n",
       "509               SPIRIVA         WV                   9681236.13     9      1\n",
       "455            TIVICAY 50         DC                   5033723.16    10      1\n",
       "506            TYSABRI (N         DE                   2910492.99     8      1\n",
       "210               VENOFER         OR                  13757618.11     5      1\n",
       "0                  VIREAD         NY                  83016865.75     7      1\n",
       "500            VIVITROL (         OH                  40205402.91     9      1\n",
       "488            VIVITROL 3         MA                  23285887.81     7      1\n",
       "404            WATER STER         SD                   1992375.76     8      1\n",
       "499            ZEMPLAR, 5         SD                   2330354.13     6      1\n",
       "496            ZEPATIER 5         NM                   8353473.10     9      1"
      ]
     },
     "execution_count": 18,
     "metadata": {},
     "output_type": "execute_result"
    }
   ],
   "source": [
    "outliers_amount = top_10_amount[top_10_amount[\"count\"] == 1]\n",
    "outliers_amount.sort_values(\"product_fda_list_name\", ascending=True)"
   ]
  },
  {
   "cell_type": "markdown",
   "metadata": {},
   "source": [
    "Export the outliers data as an Excel file."
   ]
  },
  {
   "cell_type": "code",
   "execution_count": 19,
   "metadata": {
    "collapsed": true,
    "scrolled": true
   },
   "outputs": [],
   "source": [
    "outliers_amount.to_excel(\"outliers_amount.xlsx\")"
   ]
  },
  {
   "cell_type": "code",
   "execution_count": null,
   "metadata": {
    "collapsed": true,
    "scrolled": true
   },
   "outputs": [],
   "source": []
  }
 ],
 "metadata": {
  "kernelspec": {
   "display_name": "Python 3",
   "language": "python",
   "name": "python3"
  },
  "language_info": {
   "codemirror_mode": {
    "name": "ipython",
    "version": 3
   },
   "file_extension": ".py",
   "mimetype": "text/x-python",
   "name": "python",
   "nbconvert_exporter": "python",
   "pygments_lexer": "ipython3",
   "version": "3.6.1"
  }
 },
 "nbformat": 4,
 "nbformat_minor": 2
}
