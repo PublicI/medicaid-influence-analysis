{
 "cells": [
  {
   "cell_type": "code",
   "execution_count": 1,
   "metadata": {
    "collapsed": true
   },
   "outputs": [],
   "source": [
    "import numpy as np\n",
    "import pandas as pd\n",
    "import matplotlib.pyplot as plt\n",
    "pd.set_option(\"display.float_format\", lambda x: \"%.2f\" % x) # Suppress scientific notation for float data type"
   ]
  },
  {
   "cell_type": "markdown",
   "metadata": {},
   "source": [
    "## Import and analyze Medicaid state drug utilization data"
   ]
  },
  {
   "cell_type": "markdown",
   "metadata": {
    "collapsed": true
   },
   "source": [
    "Query the Medicaid API to return the drug name, the state that bought the drugs and the number of drugs purchased in 2016."
   ]
  },
  {
   "cell_type": "code",
   "execution_count": 2,
   "metadata": {},
   "outputs": [
    {
     "name": "stdout",
     "output_type": "stream",
     "text": [
      "<class 'pandas.core.frame.DataFrame'>\n",
      "RangeIndex: 95081 entries, 0 to 95080\n",
      "Data columns (total 3 columns):\n",
      "product_fda_list_name    95079 non-null object\n",
      "state_code               95081 non-null object\n",
      "sum_units_reimbursed     95081 non-null float64\n",
      "dtypes: float64(1), object(2)\n",
      "memory usage: 2.2+ MB\n"
     ]
    }
   ],
   "source": [
    "query = \"https://data.medicaid.gov/resource/neai-csgh.json?$select=state_code,product_fda_list_name,sum(units_reimbursed)&$where=suppression_used=False%20and%20not%20state_code='XX'&$group=state_code,product_fda_list_name&$limit=4621014&$$app_token=v3AK8nRjxbWjtmIBGHJ9OmMlb\"\n",
    "drugs = pd.read_json(query)\n",
    "drugs.info()"
   ]
  },
  {
   "cell_type": "code",
   "execution_count": 3,
   "metadata": {},
   "outputs": [
    {
     "data": {
      "text/html": [
       "<div>\n",
       "<style>\n",
       "    .dataframe thead tr:only-child th {\n",
       "        text-align: right;\n",
       "    }\n",
       "\n",
       "    .dataframe thead th {\n",
       "        text-align: left;\n",
       "    }\n",
       "\n",
       "    .dataframe tbody tr th {\n",
       "        vertical-align: top;\n",
       "    }\n",
       "</style>\n",
       "<table border=\"1\" class=\"dataframe\">\n",
       "  <thead>\n",
       "    <tr style=\"text-align: right;\">\n",
       "      <th></th>\n",
       "      <th>product_fda_list_name</th>\n",
       "      <th>state_code</th>\n",
       "      <th>sum_units_reimbursed</th>\n",
       "    </tr>\n",
       "  </thead>\n",
       "  <tbody>\n",
       "    <tr>\n",
       "      <th>0</th>\n",
       "      <td>ZINC OXIDE</td>\n",
       "      <td>KY</td>\n",
       "      <td>417559.25</td>\n",
       "    </tr>\n",
       "    <tr>\n",
       "      <th>1</th>\n",
       "      <td>RAVICTI</td>\n",
       "      <td>TN</td>\n",
       "      <td>15775.00</td>\n",
       "    </tr>\n",
       "    <tr>\n",
       "      <th>2</th>\n",
       "      <td>BICILLIN L</td>\n",
       "      <td>IN</td>\n",
       "      <td>1919.67</td>\n",
       "    </tr>\n",
       "    <tr>\n",
       "      <th>3</th>\n",
       "      <td>Tramadol H</td>\n",
       "      <td>WA</td>\n",
       "      <td>36053.00</td>\n",
       "    </tr>\n",
       "    <tr>\n",
       "      <th>4</th>\n",
       "      <td>NAPROXEN 3</td>\n",
       "      <td>NV</td>\n",
       "      <td>8678.00</td>\n",
       "    </tr>\n",
       "  </tbody>\n",
       "</table>\n",
       "</div>"
      ],
      "text/plain": [
       "  product_fda_list_name state_code  sum_units_reimbursed\n",
       "0            ZINC OXIDE         KY             417559.25\n",
       "1               RAVICTI         TN              15775.00\n",
       "2            BICILLIN L         IN               1919.67\n",
       "3            Tramadol H         WA              36053.00\n",
       "4            NAPROXEN 3         NV               8678.00"
      ]
     },
     "execution_count": 3,
     "metadata": {},
     "output_type": "execute_result"
    }
   ],
   "source": [
    "drugs.head()"
   ]
  },
  {
   "cell_type": "markdown",
   "metadata": {},
   "source": [
    "Rank the drugs by their units reimbursed within each state."
   ]
  },
  {
   "cell_type": "code",
   "execution_count": 4,
   "metadata": {
    "scrolled": true
   },
   "outputs": [
    {
     "data": {
      "text/html": [
       "<div>\n",
       "<style>\n",
       "    .dataframe thead tr:only-child th {\n",
       "        text-align: right;\n",
       "    }\n",
       "\n",
       "    .dataframe thead th {\n",
       "        text-align: left;\n",
       "    }\n",
       "\n",
       "    .dataframe tbody tr th {\n",
       "        vertical-align: top;\n",
       "    }\n",
       "</style>\n",
       "<table border=\"1\" class=\"dataframe\">\n",
       "  <thead>\n",
       "    <tr style=\"text-align: right;\">\n",
       "      <th></th>\n",
       "      <th>product_fda_list_name</th>\n",
       "      <th>state_code</th>\n",
       "      <th>sum_units_reimbursed</th>\n",
       "      <th>rank</th>\n",
       "    </tr>\n",
       "  </thead>\n",
       "  <tbody>\n",
       "    <tr>\n",
       "      <th>0</th>\n",
       "      <td>ZINC OXIDE</td>\n",
       "      <td>KY</td>\n",
       "      <td>417559.25</td>\n",
       "      <td>283</td>\n",
       "    </tr>\n",
       "    <tr>\n",
       "      <th>1</th>\n",
       "      <td>RAVICTI</td>\n",
       "      <td>TN</td>\n",
       "      <td>15775.00</td>\n",
       "      <td>734</td>\n",
       "    </tr>\n",
       "    <tr>\n",
       "      <th>2</th>\n",
       "      <td>BICILLIN L</td>\n",
       "      <td>IN</td>\n",
       "      <td>1919.67</td>\n",
       "      <td>2131</td>\n",
       "    </tr>\n",
       "    <tr>\n",
       "      <th>3</th>\n",
       "      <td>Tramadol H</td>\n",
       "      <td>WA</td>\n",
       "      <td>36053.00</td>\n",
       "      <td>966</td>\n",
       "    </tr>\n",
       "    <tr>\n",
       "      <th>4</th>\n",
       "      <td>NAPROXEN 3</td>\n",
       "      <td>NV</td>\n",
       "      <td>8678.00</td>\n",
       "      <td>1075</td>\n",
       "    </tr>\n",
       "  </tbody>\n",
       "</table>\n",
       "</div>"
      ],
      "text/plain": [
       "  product_fda_list_name state_code  sum_units_reimbursed  rank\n",
       "0            ZINC OXIDE         KY             417559.25   283\n",
       "1               RAVICTI         TN              15775.00   734\n",
       "2            BICILLIN L         IN               1919.67  2131\n",
       "3            Tramadol H         WA              36053.00   966\n",
       "4            NAPROXEN 3         NV               8678.00  1075"
      ]
     },
     "execution_count": 4,
     "metadata": {},
     "output_type": "execute_result"
    }
   ],
   "source": [
    "drugs[\"rank\"] = drugs.groupby(\"state_code\")[\"sum_units_reimbursed\"].rank(method=\"min\", ascending=False).astype(int)\n",
    "drugs.head()"
   ]
  },
  {
   "cell_type": "markdown",
   "metadata": {},
   "source": [
    "Create a new dataframe with the top 10 drugs in each state."
   ]
  },
  {
   "cell_type": "code",
   "execution_count": 5,
   "metadata": {
    "scrolled": true
   },
   "outputs": [
    {
     "name": "stdout",
     "output_type": "stream",
     "text": [
      "<class 'pandas.core.frame.DataFrame'>\n",
      "RangeIndex: 510 entries, 0 to 509\n",
      "Data columns (total 4 columns):\n",
      "product_fda_list_name    510 non-null object\n",
      "state_code               510 non-null object\n",
      "sum_units_reimbursed     510 non-null float64\n",
      "rank                     510 non-null int32\n",
      "dtypes: float64(1), int32(1), object(2)\n",
      "memory usage: 14.0+ KB\n"
     ]
    }
   ],
   "source": [
    "top_10 = drugs[drugs[\"rank\"] <= 10].sort_values([\"state_code\", \"rank\"], ascending=True).reset_index(drop=True)\n",
    "top_10.info()"
   ]
  },
  {
   "cell_type": "markdown",
   "metadata": {},
   "source": [
    "How many times does each drug appear in a state's top-10 list?"
   ]
  },
  {
   "cell_type": "code",
   "execution_count": 6,
   "metadata": {
    "scrolled": true
   },
   "outputs": [
    {
     "data": {
      "text/html": [
       "<div>\n",
       "<style>\n",
       "    .dataframe thead tr:only-child th {\n",
       "        text-align: right;\n",
       "    }\n",
       "\n",
       "    .dataframe thead th {\n",
       "        text-align: left;\n",
       "    }\n",
       "\n",
       "    .dataframe tbody tr th {\n",
       "        vertical-align: top;\n",
       "    }\n",
       "</style>\n",
       "<table border=\"1\" class=\"dataframe\">\n",
       "  <thead>\n",
       "    <tr style=\"text-align: right;\">\n",
       "      <th></th>\n",
       "      <th>product_fda_list_name</th>\n",
       "      <th>count</th>\n",
       "    </tr>\n",
       "  </thead>\n",
       "  <tbody>\n",
       "    <tr>\n",
       "      <th>0</th>\n",
       "      <td>AMOXICILLI</td>\n",
       "      <td>50</td>\n",
       "    </tr>\n",
       "    <tr>\n",
       "      <th>1</th>\n",
       "      <td>POLYETHYLE</td>\n",
       "      <td>48</td>\n",
       "    </tr>\n",
       "    <tr>\n",
       "      <th>2</th>\n",
       "      <td>GABAPENTIN</td>\n",
       "      <td>43</td>\n",
       "    </tr>\n",
       "    <tr>\n",
       "      <th>3</th>\n",
       "      <td>ALBUTEROL</td>\n",
       "      <td>38</td>\n",
       "    </tr>\n",
       "    <tr>\n",
       "      <th>4</th>\n",
       "      <td>SODIUM CHL</td>\n",
       "      <td>33</td>\n",
       "    </tr>\n",
       "  </tbody>\n",
       "</table>\n",
       "</div>"
      ],
      "text/plain": [
       "  product_fda_list_name  count\n",
       "0            AMOXICILLI     50\n",
       "1            POLYETHYLE     48\n",
       "2            GABAPENTIN     43\n",
       "3             ALBUTEROL     38\n",
       "4            SODIUM CHL     33"
      ]
     },
     "execution_count": 6,
     "metadata": {},
     "output_type": "execute_result"
    }
   ],
   "source": [
    "counts = top_10.product_fda_list_name.value_counts().reset_index() # Create new dataframe of drug counts\n",
    "counts.columns = [\"product_fda_list_name\", \"count\"] # Rename columns\n",
    "counts.head()"
   ]
  },
  {
   "cell_type": "markdown",
   "metadata": {
    "collapsed": true
   },
   "source": [
    "Merge the dataframes."
   ]
  },
  {
   "cell_type": "code",
   "execution_count": 7,
   "metadata": {},
   "outputs": [
    {
     "data": {
      "text/html": [
       "<div>\n",
       "<style>\n",
       "    .dataframe thead tr:only-child th {\n",
       "        text-align: right;\n",
       "    }\n",
       "\n",
       "    .dataframe thead th {\n",
       "        text-align: left;\n",
       "    }\n",
       "\n",
       "    .dataframe tbody tr th {\n",
       "        vertical-align: top;\n",
       "    }\n",
       "</style>\n",
       "<table border=\"1\" class=\"dataframe\">\n",
       "  <thead>\n",
       "    <tr style=\"text-align: right;\">\n",
       "      <th></th>\n",
       "      <th>product_fda_list_name</th>\n",
       "      <th>state_code</th>\n",
       "      <th>sum_units_reimbursed</th>\n",
       "      <th>rank</th>\n",
       "      <th>count</th>\n",
       "    </tr>\n",
       "  </thead>\n",
       "  <tbody>\n",
       "    <tr>\n",
       "      <th>0</th>\n",
       "      <td>SODIUM CHL</td>\n",
       "      <td>AK</td>\n",
       "      <td>4318793.63</td>\n",
       "      <td>1</td>\n",
       "      <td>33</td>\n",
       "    </tr>\n",
       "    <tr>\n",
       "      <th>1</th>\n",
       "      <td>SODIUM CHL</td>\n",
       "      <td>CA</td>\n",
       "      <td>126541509.44</td>\n",
       "      <td>9</td>\n",
       "      <td>33</td>\n",
       "    </tr>\n",
       "    <tr>\n",
       "      <th>2</th>\n",
       "      <td>SODIUM CHL</td>\n",
       "      <td>CO</td>\n",
       "      <td>14185663.68</td>\n",
       "      <td>5</td>\n",
       "      <td>33</td>\n",
       "    </tr>\n",
       "    <tr>\n",
       "      <th>3</th>\n",
       "      <td>SODIUM CHL</td>\n",
       "      <td>DE</td>\n",
       "      <td>2099675.00</td>\n",
       "      <td>10</td>\n",
       "      <td>33</td>\n",
       "    </tr>\n",
       "    <tr>\n",
       "      <th>4</th>\n",
       "      <td>SODIUM CHL</td>\n",
       "      <td>FL</td>\n",
       "      <td>128607823.50</td>\n",
       "      <td>1</td>\n",
       "      <td>33</td>\n",
       "    </tr>\n",
       "  </tbody>\n",
       "</table>\n",
       "</div>"
      ],
      "text/plain": [
       "  product_fda_list_name state_code  sum_units_reimbursed  rank  count\n",
       "0            SODIUM CHL         AK            4318793.63     1     33\n",
       "1            SODIUM CHL         CA          126541509.44     9     33\n",
       "2            SODIUM CHL         CO           14185663.68     5     33\n",
       "3            SODIUM CHL         DE            2099675.00    10     33\n",
       "4            SODIUM CHL         FL          128607823.50     1     33"
      ]
     },
     "execution_count": 7,
     "metadata": {},
     "output_type": "execute_result"
    }
   ],
   "source": [
    "top_10 = top_10.merge(counts, how=\"inner\", on=\"product_fda_list_name\")\n",
    "top_10.head()"
   ]
  },
  {
   "cell_type": "markdown",
   "metadata": {
    "collapsed": true
   },
   "source": [
    "Which drugs appear in only a single state's top-10 list?"
   ]
  },
  {
   "cell_type": "code",
   "execution_count": 8,
   "metadata": {},
   "outputs": [
    {
     "data": {
      "text/html": [
       "<div>\n",
       "<style>\n",
       "    .dataframe thead tr:only-child th {\n",
       "        text-align: right;\n",
       "    }\n",
       "\n",
       "    .dataframe thead th {\n",
       "        text-align: left;\n",
       "    }\n",
       "\n",
       "    .dataframe tbody tr th {\n",
       "        vertical-align: top;\n",
       "    }\n",
       "</style>\n",
       "<table border=\"1\" class=\"dataframe\">\n",
       "  <thead>\n",
       "    <tr style=\"text-align: right;\">\n",
       "      <th></th>\n",
       "      <th>product_fda_list_name</th>\n",
       "      <th>state_code</th>\n",
       "      <th>sum_units_reimbursed</th>\n",
       "      <th>rank</th>\n",
       "      <th>count</th>\n",
       "    </tr>\n",
       "  </thead>\n",
       "  <tbody>\n",
       "    <tr>\n",
       "      <th>0</th>\n",
       "      <td>ADVATE 5ML</td>\n",
       "      <td>NV</td>\n",
       "      <td>8649028.00</td>\n",
       "      <td>8</td>\n",
       "      <td>1</td>\n",
       "    </tr>\n",
       "    <tr>\n",
       "      <th>1</th>\n",
       "      <td>ALPRAZOLAM</td>\n",
       "      <td>MO</td>\n",
       "      <td>9810078.31</td>\n",
       "      <td>10</td>\n",
       "      <td>1</td>\n",
       "    </tr>\n",
       "    <tr>\n",
       "      <th>2</th>\n",
       "      <td>AMLODIPINE</td>\n",
       "      <td>DC</td>\n",
       "      <td>2354345.13</td>\n",
       "      <td>10</td>\n",
       "      <td>1</td>\n",
       "    </tr>\n",
       "    <tr>\n",
       "      <th>3</th>\n",
       "      <td>AMMONIUM L</td>\n",
       "      <td>NY</td>\n",
       "      <td>61596452.85</td>\n",
       "      <td>8</td>\n",
       "      <td>1</td>\n",
       "    </tr>\n",
       "    <tr>\n",
       "      <th>4</th>\n",
       "      <td>BROMFED DM</td>\n",
       "      <td>TX</td>\n",
       "      <td>61984061.99</td>\n",
       "      <td>7</td>\n",
       "      <td>1</td>\n",
       "    </tr>\n",
       "    <tr>\n",
       "      <th>5</th>\n",
       "      <td>BUPROPION</td>\n",
       "      <td>VT</td>\n",
       "      <td>1365163.50</td>\n",
       "      <td>9</td>\n",
       "      <td>1</td>\n",
       "    </tr>\n",
       "    <tr>\n",
       "      <th>6</th>\n",
       "      <td>CHILDREN I</td>\n",
       "      <td>TX</td>\n",
       "      <td>77695830.83</td>\n",
       "      <td>6</td>\n",
       "      <td>1</td>\n",
       "    </tr>\n",
       "    <tr>\n",
       "      <th>7</th>\n",
       "      <td>CLONAZEPAM</td>\n",
       "      <td>RI</td>\n",
       "      <td>2107665.00</td>\n",
       "      <td>9</td>\n",
       "      <td>1</td>\n",
       "    </tr>\n",
       "    <tr>\n",
       "      <th>8</th>\n",
       "      <td>Cetirizine</td>\n",
       "      <td>OK</td>\n",
       "      <td>5399826.07</td>\n",
       "      <td>7</td>\n",
       "      <td>1</td>\n",
       "    </tr>\n",
       "    <tr>\n",
       "      <th>9</th>\n",
       "      <td>DEXTROAMP-</td>\n",
       "      <td>MA</td>\n",
       "      <td>14594796.50</td>\n",
       "      <td>8</td>\n",
       "      <td>1</td>\n",
       "    </tr>\n",
       "    <tr>\n",
       "      <th>10</th>\n",
       "      <td>DEXTROSE 5</td>\n",
       "      <td>WV</td>\n",
       "      <td>12265060.00</td>\n",
       "      <td>8</td>\n",
       "      <td>1</td>\n",
       "    </tr>\n",
       "    <tr>\n",
       "      <th>11</th>\n",
       "      <td>FENTANYL 1</td>\n",
       "      <td>MD</td>\n",
       "      <td>58061615.80</td>\n",
       "      <td>1</td>\n",
       "      <td>1</td>\n",
       "    </tr>\n",
       "    <tr>\n",
       "      <th>12</th>\n",
       "      <td>FLUOXETINE</td>\n",
       "      <td>VT</td>\n",
       "      <td>1381718.00</td>\n",
       "      <td>8</td>\n",
       "      <td>1</td>\n",
       "    </tr>\n",
       "    <tr>\n",
       "      <th>13</th>\n",
       "      <td>GAVILYTE-N</td>\n",
       "      <td>MT</td>\n",
       "      <td>2496000.00</td>\n",
       "      <td>7</td>\n",
       "      <td>1</td>\n",
       "    </tr>\n",
       "    <tr>\n",
       "      <th>14</th>\n",
       "      <td>HEPARIN SO</td>\n",
       "      <td>WV</td>\n",
       "      <td>46224063.55</td>\n",
       "      <td>4</td>\n",
       "      <td>1</td>\n",
       "    </tr>\n",
       "    <tr>\n",
       "      <th>15</th>\n",
       "      <td>HEPARIN-NS</td>\n",
       "      <td>WV</td>\n",
       "      <td>22624775.00</td>\n",
       "      <td>6</td>\n",
       "      <td>1</td>\n",
       "    </tr>\n",
       "    <tr>\n",
       "      <th>16</th>\n",
       "      <td>HYDROXYZIN</td>\n",
       "      <td>AR</td>\n",
       "      <td>8245302.62</td>\n",
       "      <td>5</td>\n",
       "      <td>1</td>\n",
       "    </tr>\n",
       "    <tr>\n",
       "      <th>17</th>\n",
       "      <td>LIDOCAINE</td>\n",
       "      <td>NH</td>\n",
       "      <td>3516121.49</td>\n",
       "      <td>3</td>\n",
       "      <td>1</td>\n",
       "    </tr>\n",
       "    <tr>\n",
       "      <th>18</th>\n",
       "      <td>MAPAP</td>\n",
       "      <td>MN</td>\n",
       "      <td>13698340.40</td>\n",
       "      <td>7</td>\n",
       "      <td>1</td>\n",
       "    </tr>\n",
       "    <tr>\n",
       "      <th>19</th>\n",
       "      <td>Metformin</td>\n",
       "      <td>RI</td>\n",
       "      <td>2050606.00</td>\n",
       "      <td>10</td>\n",
       "      <td>1</td>\n",
       "    </tr>\n",
       "    <tr>\n",
       "      <th>20</th>\n",
       "      <td>NULYTELY/F</td>\n",
       "      <td>ME</td>\n",
       "      <td>3608000.00</td>\n",
       "      <td>5</td>\n",
       "      <td>1</td>\n",
       "    </tr>\n",
       "    <tr>\n",
       "      <th>21</th>\n",
       "      <td>RYNEX DM L</td>\n",
       "      <td>MS</td>\n",
       "      <td>17910198.42</td>\n",
       "      <td>3</td>\n",
       "      <td>1</td>\n",
       "    </tr>\n",
       "    <tr>\n",
       "      <th>22</th>\n",
       "      <td>SALINE 0.9</td>\n",
       "      <td>WV</td>\n",
       "      <td>51322227.50</td>\n",
       "      <td>3</td>\n",
       "      <td>1</td>\n",
       "    </tr>\n",
       "    <tr>\n",
       "      <th>23</th>\n",
       "      <td>SERTRALINE</td>\n",
       "      <td>VT</td>\n",
       "      <td>1352391.50</td>\n",
       "      <td>10</td>\n",
       "      <td>1</td>\n",
       "    </tr>\n",
       "    <tr>\n",
       "      <th>24</th>\n",
       "      <td>Suboxone S</td>\n",
       "      <td>VT</td>\n",
       "      <td>1568555.50</td>\n",
       "      <td>6</td>\n",
       "      <td>1</td>\n",
       "    </tr>\n",
       "  </tbody>\n",
       "</table>\n",
       "</div>"
      ],
      "text/plain": [
       "   product_fda_list_name state_code  sum_units_reimbursed  rank  count\n",
       "0             ADVATE 5ML         NV            8649028.00     8      1\n",
       "1             ALPRAZOLAM         MO            9810078.31    10      1\n",
       "2             AMLODIPINE         DC            2354345.13    10      1\n",
       "3             AMMONIUM L         NY           61596452.85     8      1\n",
       "4             BROMFED DM         TX           61984061.99     7      1\n",
       "5              BUPROPION         VT            1365163.50     9      1\n",
       "6             CHILDREN I         TX           77695830.83     6      1\n",
       "7             CLONAZEPAM         RI            2107665.00     9      1\n",
       "8             Cetirizine         OK            5399826.07     7      1\n",
       "9             DEXTROAMP-         MA           14594796.50     8      1\n",
       "10            DEXTROSE 5         WV           12265060.00     8      1\n",
       "11            FENTANYL 1         MD           58061615.80     1      1\n",
       "12            FLUOXETINE         VT            1381718.00     8      1\n",
       "13            GAVILYTE-N         MT            2496000.00     7      1\n",
       "14            HEPARIN SO         WV           46224063.55     4      1\n",
       "15            HEPARIN-NS         WV           22624775.00     6      1\n",
       "16            HYDROXYZIN         AR            8245302.62     5      1\n",
       "17             LIDOCAINE         NH            3516121.49     3      1\n",
       "18                 MAPAP         MN           13698340.40     7      1\n",
       "19             Metformin         RI            2050606.00    10      1\n",
       "20            NULYTELY/F         ME            3608000.00     5      1\n",
       "21            RYNEX DM L         MS           17910198.42     3      1\n",
       "22            SALINE 0.9         WV           51322227.50     3      1\n",
       "23            SERTRALINE         VT            1352391.50    10      1\n",
       "24            Suboxone S         VT            1568555.50     6      1"
      ]
     },
     "execution_count": 8,
     "metadata": {},
     "output_type": "execute_result"
    }
   ],
   "source": [
    "outliers = top_10[top_10[\"count\"] <= 1].sort_values([\"product_fda_list_name\", \"state_code\"], ascending=True).reset_index(drop=True)\n",
    "outliers"
   ]
  },
  {
   "cell_type": "markdown",
   "metadata": {},
   "source": [
    "Export the outliers data as an Excel file."
   ]
  },
  {
   "cell_type": "code",
   "execution_count": 9,
   "metadata": {
    "collapsed": true
   },
   "outputs": [],
   "source": [
    "outliers.to_excel(\"medicaid_drug_utilization_outliers.xlsx\")"
   ]
  },
  {
   "cell_type": "code",
   "execution_count": null,
   "metadata": {
    "collapsed": true
   },
   "outputs": [],
   "source": []
  }
 ],
 "metadata": {
  "kernelspec": {
   "display_name": "Python 3",
   "language": "python",
   "name": "python3"
  },
  "language_info": {
   "codemirror_mode": {
    "name": "ipython",
    "version": 3
   },
   "file_extension": ".py",
   "mimetype": "text/x-python",
   "name": "python",
   "nbconvert_exporter": "python",
   "pygments_lexer": "ipython3",
   "version": "3.6.1"
  }
 },
 "nbformat": 4,
 "nbformat_minor": 2
}
