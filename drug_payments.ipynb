{
 "cells": [
  {
   "cell_type": "code",
   "execution_count": 1,
   "metadata": {
    "scrolled": false
   },
   "outputs": [
    {
     "data": {
      "application/javascript": [
       "if (!(\"Notification\" in window)) {\n",
       "    alert(\"This browser does not support desktop notifications, so the %%notify magic will not work.\");\n",
       "} else if (Notification.permission !== 'granted' && Notification.permission !== 'denied') {\n",
       "    Notification.requestPermission(function (permission) {\n",
       "        if(!('permission' in Notification)) {\n",
       "            Notification.permission = permission;\n",
       "        }\n",
       "    })\n",
       "}\n"
      ],
      "text/plain": [
       "<IPython.core.display.Javascript object>"
      ]
     },
     "metadata": {},
     "output_type": "display_data"
    }
   ],
   "source": [
    "import json\n",
    "import numpy as np\n",
    "import pandas as pd\n",
    "import psycopg2\n",
    "\n",
    "%load_ext jupyternotify"
   ]
  },
  {
   "cell_type": "markdown",
   "metadata": {},
   "source": [
    "# How many doctors on Medicaid drug utilization boards have received payments from drug manufacturers?"
   ]
  },
  {
   "cell_type": "markdown",
   "metadata": {},
   "source": [
    "We will use Open Payments data to determine the extent of payments from August 2013 through 2017 from drug manufacturers to doctors serving on Medicaid drug utilization boards between the start of 2016 and March of 2018."
   ]
  },
  {
   "cell_type": "markdown",
   "metadata": {},
   "source": [
    "## Create tables for analysis"
   ]
  },
  {
   "cell_type": "markdown",
   "metadata": {},
   "source": [
    "First, connect to the database."
   ]
  },
  {
   "cell_type": "code",
   "execution_count": 2,
   "metadata": {
    "collapsed": true
   },
   "outputs": [],
   "source": [
    "with open(\"config.json\") as f:\n",
    "    conf = json.load(f)"
   ]
  },
  {
   "cell_type": "code",
   "execution_count": 3,
   "metadata": {
    "collapsed": true
   },
   "outputs": [],
   "source": [
    "conn_str = \"host={} dbname={} user={} password={}\".format(conf[\"host\"], conf[\"database\"], conf[\"user\"], conf[\"password\"])"
   ]
  },
  {
   "cell_type": "code",
   "execution_count": 4,
   "metadata": {
    "collapsed": true
   },
   "outputs": [],
   "source": [
    "conn = psycopg2.connect(conn_str)\n",
    "conn.autocommit = True # Allow the notebook to commit transactions (like creating a table) to the connected database."
   ]
  },
  {
   "cell_type": "markdown",
   "metadata": {},
   "source": [
    "Query the database to create a new table of all Medicaid drug utilization board members and the general purpose payments they received from drug manufacturers."
   ]
  },
  {
   "cell_type": "code",
   "execution_count": 5,
   "metadata": {},
   "outputs": [
    {
     "data": {
      "application/javascript": [
       "$(document).ready(\n",
       "    function() {\n",
       "        function appendUniqueDiv(){\n",
       "            // append a div with our uuid so we can check that it's already\n",
       "            // been sent and avoid duplicates on page reload\n",
       "            var notifiedDiv = document.createElement(\"div\")\n",
       "            notifiedDiv.id = \"7065e0c2-9411-486d-a566-1ec4a8e87086\"\n",
       "            element.append(notifiedDiv)\n",
       "        }\n",
       "\n",
       "        // only send notifications if the pageload is complete; this will\n",
       "        // help stop extra notifications when a saved notebook is loaded,\n",
       "        // which during testing gives us state \"interactive\", not \"complete\"\n",
       "        if (document.readyState === 'complete') {\n",
       "            // check for the div that signifies that the notification\n",
       "            // was already sent\n",
       "            if (document.getElementById(\"7065e0c2-9411-486d-a566-1ec4a8e87086\") === null) {\n",
       "                var notificationPayload = {\"requireInteraction\": false, \"icon\": \"/static/base/images/favicon.ico\", \"body\": \"Cell execution has finished!\"};\n",
       "                if (Notification.permission !== 'denied') {\n",
       "                    if (Notification.permission !== 'granted') { \n",
       "                        Notification.requestPermission(function (permission) {\n",
       "                            if(!('permission' in Notification)) {\n",
       "                                Notification.permission = permission\n",
       "                            }\n",
       "                        })\n",
       "                    }\n",
       "                    if (Notification.permission === 'granted') {\n",
       "                    var notification = new Notification(\"Jupyter Notebook\", notificationPayload)\n",
       "                    appendUniqueDiv()\n",
       "                    notification.onclick = function () {\n",
       "                        window.focus();\n",
       "                        this.close();\n",
       "                        };\n",
       "                    } \n",
       "                }     \n",
       "            }\n",
       "        }\n",
       "    }\n",
       ")\n"
      ],
      "text/plain": [
       "<IPython.core.display.Javascript object>"
      ]
     },
     "metadata": {},
     "output_type": "display_data"
    }
   ],
   "source": [
    "%%notify\n",
    "payments_by_doctor = pd.read_sql(\"\"\"CREATE TABLE IF NOT EXISTS payments_by_doctor AS\n",
    "SELECT physician_profile_id1 AS physician_profile_id,\n",
    "       first_name,\n",
    "       last_name,\n",
    "       state_name,\n",
    "       degree_1,\n",
    "       degree_2,\n",
    "       payments_amount,\n",
    "       number_of_payments\n",
    "FROM\n",
    "  (SELECT physician_profile_id AS physician_profile_id1,\n",
    "          first_name,\n",
    "          last_name,\n",
    "          state_name,\n",
    "          degree_1,\n",
    "          degree_2\n",
    "   FROM committee_members\n",
    "   LEFT JOIN open_payments_general ON first_name = physician_first_name\n",
    "   AND last_name = physician_last_name\n",
    "   AND state_name = recipient_state\n",
    "   GROUP BY physician_profile_id,\n",
    "            first_name,\n",
    "            last_name,\n",
    "            state_name,\n",
    "            degree_1,\n",
    "            degree_2) AS matching_committee_members\n",
    "LEFT JOIN\n",
    "  (SELECT physician_profile_id AS physician_profile_id2,\n",
    "          sum(total_amount_of_payment_usdollars) AS payments_amount,\n",
    "          count(DISTINCT record_id) AS number_of_payments\n",
    "   FROM open_payments_general\n",
    "   GROUP BY physician_profile_id) AS totals_by_id ON matching_committee_members.physician_profile_id1 = totals_by_id.physician_profile_id2;\n",
    "\n",
    "GRANT ALL ON TABLE payments_by_doctor TO redash;\n",
    "\n",
    "\n",
    "SELECT *\n",
    "FROM payments_by_doctor;\"\"\", con=conn)"
   ]
  },
  {
   "cell_type": "markdown",
   "metadata": {
    "collapsed": true
   },
   "source": [
    "The only consistent data we have about members serving on state drug utilization boards are the members' first name, last name and state. As such, that’s all we have to join against the Open Payments data. So in order to understand the extent of possible duplicates in this data, we will count how many distinct doctors in both the Open Payments general payments table and the [NPPES](https://npiregistry.cms.hhs.gov/) (a national dataset of physicians) registry table match our committee members."
   ]
  },
  {
   "cell_type": "code",
   "execution_count": 6,
   "metadata": {},
   "outputs": [
    {
     "data": {
      "application/javascript": [
       "$(document).ready(\n",
       "    function() {\n",
       "        function appendUniqueDiv(){\n",
       "            // append a div with our uuid so we can check that it's already\n",
       "            // been sent and avoid duplicates on page reload\n",
       "            var notifiedDiv = document.createElement(\"div\")\n",
       "            notifiedDiv.id = \"912b57a6-e617-4909-a2f1-ce6cdf9563a8\"\n",
       "            element.append(notifiedDiv)\n",
       "        }\n",
       "\n",
       "        // only send notifications if the pageload is complete; this will\n",
       "        // help stop extra notifications when a saved notebook is loaded,\n",
       "        // which during testing gives us state \"interactive\", not \"complete\"\n",
       "        if (document.readyState === 'complete') {\n",
       "            // check for the div that signifies that the notification\n",
       "            // was already sent\n",
       "            if (document.getElementById(\"912b57a6-e617-4909-a2f1-ce6cdf9563a8\") === null) {\n",
       "                var notificationPayload = {\"requireInteraction\": false, \"icon\": \"/static/base/images/favicon.ico\", \"body\": \"Cell execution has finished!\"};\n",
       "                if (Notification.permission !== 'denied') {\n",
       "                    if (Notification.permission !== 'granted') { \n",
       "                        Notification.requestPermission(function (permission) {\n",
       "                            if(!('permission' in Notification)) {\n",
       "                                Notification.permission = permission\n",
       "                            }\n",
       "                        })\n",
       "                    }\n",
       "                    if (Notification.permission === 'granted') {\n",
       "                    var notification = new Notification(\"Jupyter Notebook\", notificationPayload)\n",
       "                    appendUniqueDiv()\n",
       "                    notification.onclick = function () {\n",
       "                        window.focus();\n",
       "                        this.close();\n",
       "                        };\n",
       "                    } \n",
       "                }     \n",
       "            }\n",
       "        }\n",
       "    }\n",
       ")\n"
      ],
      "text/plain": [
       "<IPython.core.display.Javascript object>"
      ]
     },
     "metadata": {},
     "output_type": "display_data"
    }
   ],
   "source": [
    "%%notify\n",
    "payments_by_doctor_counts = pd.read_sql(\"\"\"\n",
    "CREATE TABLE IF NOT EXISTS payments_by_doctor_counts AS\n",
    "SELECT payments_by_doctor.physician_profile_id,\n",
    "       payments_by_doctor.first_name,\n",
    "       payments_by_doctor.last_name,\n",
    "       payments_by_doctor.state_name,\n",
    "       payments_by_doctor.degree_1,\n",
    "       payments_by_doctor.degree_2,\n",
    "       payments_amount,\n",
    "       number_of_payments,\n",
    "       doc_counts_nppes,\n",
    "       doc_counts_open_payments\n",
    "FROM payments_by_doctor\n",
    "LEFT JOIN\n",
    "  (SELECT provider_first_name,\n",
    "          provider_last_name_legal_name,\n",
    "          provider_business_practice_location_address_state_name,\n",
    "          count(DISTINCT npi) AS doc_counts_nppes\n",
    "   FROM nppes\n",
    "   GROUP BY provider_first_name,\n",
    "            provider_last_name_legal_name,\n",
    "            provider_business_practice_location_address_state_name) AS nppes_grouped_by_first_last_state ON payments_by_doctor.first_name = nppes_grouped_by_first_last_state.provider_first_name\n",
    "AND payments_by_doctor.last_name = nppes_grouped_by_first_last_state.provider_last_name_legal_name\n",
    "AND payments_by_doctor.state_name = nppes_grouped_by_first_last_state.provider_business_practice_location_address_state_name\n",
    "LEFT JOIN\n",
    "  (SELECT physician_first_name,\n",
    "          physician_last_name,\n",
    "          recipient_state,\n",
    "          count(DISTINCT physician_profile_id) AS doc_counts_open_payments\n",
    "   FROM open_payments_general\n",
    "   GROUP BY physician_first_name,\n",
    "            physician_last_name,\n",
    "            recipient_state) AS open_payments_grouped_by_first_last_state ON payments_by_doctor.first_name = open_payments_grouped_by_first_last_state.physician_first_name\n",
    "AND payments_by_doctor.last_name = open_payments_grouped_by_first_last_state.physician_last_name\n",
    "AND payments_by_doctor.state_name = open_payments_grouped_by_first_last_state.recipient_state;\n",
    "\n",
    "\n",
    "GRANT ALL ON TABLE payments_by_doctor_counts TO redash;\n",
    "\n",
    "\n",
    "SELECT *\n",
    "FROM payments_by_doctor_counts;\"\"\", con=conn)"
   ]
  },
  {
   "cell_type": "markdown",
   "metadata": {},
   "source": [
    "OK. So, we know we have some committee member doctors with the same name as other doctors in their state. Now let's find out the range of payments those doctors may have taken so we can get a sense as to how much uncertainty there is in our data vis-a-vis the prevalence of committee member doctors taking drug company money."
   ]
  },
  {
   "cell_type": "code",
   "execution_count": 7,
   "metadata": {},
   "outputs": [
    {
     "data": {
      "application/javascript": [
       "$(document).ready(\n",
       "    function() {\n",
       "        function appendUniqueDiv(){\n",
       "            // append a div with our uuid so we can check that it's already\n",
       "            // been sent and avoid duplicates on page reload\n",
       "            var notifiedDiv = document.createElement(\"div\")\n",
       "            notifiedDiv.id = \"fdb69a46-fc5b-43d6-bd4b-a4604853196a\"\n",
       "            element.append(notifiedDiv)\n",
       "        }\n",
       "\n",
       "        // only send notifications if the pageload is complete; this will\n",
       "        // help stop extra notifications when a saved notebook is loaded,\n",
       "        // which during testing gives us state \"interactive\", not \"complete\"\n",
       "        if (document.readyState === 'complete') {\n",
       "            // check for the div that signifies that the notification\n",
       "            // was already sent\n",
       "            if (document.getElementById(\"fdb69a46-fc5b-43d6-bd4b-a4604853196a\") === null) {\n",
       "                var notificationPayload = {\"requireInteraction\": false, \"icon\": \"/static/base/images/favicon.ico\", \"body\": \"Cell execution has finished!\"};\n",
       "                if (Notification.permission !== 'denied') {\n",
       "                    if (Notification.permission !== 'granted') { \n",
       "                        Notification.requestPermission(function (permission) {\n",
       "                            if(!('permission' in Notification)) {\n",
       "                                Notification.permission = permission\n",
       "                            }\n",
       "                        })\n",
       "                    }\n",
       "                    if (Notification.permission === 'granted') {\n",
       "                    var notification = new Notification(\"Jupyter Notebook\", notificationPayload)\n",
       "                    appendUniqueDiv()\n",
       "                    notification.onclick = function () {\n",
       "                        window.focus();\n",
       "                        this.close();\n",
       "                        };\n",
       "                    } \n",
       "                }     \n",
       "            }\n",
       "        }\n",
       "    }\n",
       ")\n"
      ],
      "text/plain": [
       "<IPython.core.display.Javascript object>"
      ]
     },
     "metadata": {},
     "output_type": "display_data"
    }
   ],
   "source": [
    "%%notify\n",
    "payments_by_doctor_max_min = pd.read_sql(\"\"\"\n",
    "CREATE TABLE IF NOT EXISTS payments_by_doctor_max_min AS\n",
    "SELECT physician_profile_id,\n",
    "       first_name,\n",
    "       last_name,\n",
    "       state_name,\n",
    "       degree_1,\n",
    "       degree_2,\n",
    "       payments_amount,\n",
    "       max_amount,\n",
    "       min_amount,\n",
    "       number_of_payments,\n",
    "       doc_counts_nppes,\n",
    "       doc_counts_open_payments\n",
    "FROM payments_by_doctor_counts\n",
    "LEFT JOIN\n",
    "  (SELECT first_name AS first_name_1,\n",
    "          last_name AS last_name_1,\n",
    "          state_name AS state_name_1,\n",
    "          max(payments_amount) AS max_amount,\n",
    "          min(payments_amount) AS min_amount\n",
    "   FROM payments_by_doctor\n",
    "   GROUP BY first_name_1,\n",
    "            last_name_1,\n",
    "            state_name_1) AS open_payments_grouped_by_first_last_state ON first_name = open_payments_grouped_by_first_last_state.first_name_1\n",
    "AND last_name = open_payments_grouped_by_first_last_state.last_name_1\n",
    "AND state_name = open_payments_grouped_by_first_last_state.state_name_1;\n",
    "\n",
    "GRANT ALL ON TABLE payments_by_doctor_max_min TO redash;\n",
    "\n",
    "\n",
    "SELECT *\n",
    "FROM payments_by_doctor_max_min;\"\"\", con=conn)"
   ]
  },
  {
   "cell_type": "markdown",
   "metadata": {},
   "source": [
    "When we joined the committee members table to the Open Payments table, our query returned multiple doctors with the same name and state in instances where multiple doctors were recorded as accepting payments. In order to avoid overstating the amount of payments these committee members took, we need to return a table of board members and the payments they received that eliminates duplicates."
   ]
  },
  {
   "cell_type": "code",
   "execution_count": 8,
   "metadata": {},
   "outputs": [
    {
     "data": {
      "application/javascript": [
       "$(document).ready(\n",
       "    function() {\n",
       "        function appendUniqueDiv(){\n",
       "            // append a div with our uuid so we can check that it's already\n",
       "            // been sent and avoid duplicates on page reload\n",
       "            var notifiedDiv = document.createElement(\"div\")\n",
       "            notifiedDiv.id = \"46a8b59d-6037-45ed-8a73-62306ad77b61\"\n",
       "            element.append(notifiedDiv)\n",
       "        }\n",
       "\n",
       "        // only send notifications if the pageload is complete; this will\n",
       "        // help stop extra notifications when a saved notebook is loaded,\n",
       "        // which during testing gives us state \"interactive\", not \"complete\"\n",
       "        if (document.readyState === 'complete') {\n",
       "            // check for the div that signifies that the notification\n",
       "            // was already sent\n",
       "            if (document.getElementById(\"46a8b59d-6037-45ed-8a73-62306ad77b61\") === null) {\n",
       "                var notificationPayload = {\"requireInteraction\": false, \"icon\": \"/static/base/images/favicon.ico\", \"body\": \"Cell execution has finished!\"};\n",
       "                if (Notification.permission !== 'denied') {\n",
       "                    if (Notification.permission !== 'granted') { \n",
       "                        Notification.requestPermission(function (permission) {\n",
       "                            if(!('permission' in Notification)) {\n",
       "                                Notification.permission = permission\n",
       "                            }\n",
       "                        })\n",
       "                    }\n",
       "                    if (Notification.permission === 'granted') {\n",
       "                    var notification = new Notification(\"Jupyter Notebook\", notificationPayload)\n",
       "                    appendUniqueDiv()\n",
       "                    notification.onclick = function () {\n",
       "                        window.focus();\n",
       "                        this.close();\n",
       "                        };\n",
       "                    } \n",
       "                }     \n",
       "            }\n",
       "        }\n",
       "    }\n",
       ")\n"
      ],
      "text/plain": [
       "<IPython.core.display.Javascript object>"
      ]
     },
     "metadata": {},
     "output_type": "display_data"
    }
   ],
   "source": [
    "%%notify\n",
    "deduplicated_payments_by_doctor = pd.read_sql(\"\"\"\n",
    "CREATE TABLE IF NOT EXISTS deduplicated_payments_by_doctor AS\n",
    "SELECT *\n",
    "FROM\n",
    "  (SELECT DISTINCT ON (first_name,\n",
    "                       last_name,\n",
    "                       state_name) *\n",
    "   FROM payments_by_doctor_max_min) AS grouped_by_first_last_state;\n",
    "\n",
    "GRANT ALL ON TABLE deduplicated_payments_by_doctor TO redash;\n",
    "\n",
    "\n",
    "SELECT *\n",
    "FROM deduplicated_payments_by_doctor;\"\"\", con=conn)"
   ]
  },
  {
   "cell_type": "markdown",
   "metadata": {},
   "source": [
    "And finally, let's play it safe and remove those board member doctors who might have another doctor in the same state with the same name. To do so, we'll return a table that only includes doctors a) without possible duplicates, b) with more records in the Open Payments table than in the NPPES table or c) appearing only in the Open Payments table and not in the NPPES table."
   ]
  },
  {
   "cell_type": "code",
   "execution_count": 9,
   "metadata": {},
   "outputs": [
    {
     "data": {
      "application/javascript": [
       "$(document).ready(\n",
       "    function() {\n",
       "        function appendUniqueDiv(){\n",
       "            // append a div with our uuid so we can check that it's already\n",
       "            // been sent and avoid duplicates on page reload\n",
       "            var notifiedDiv = document.createElement(\"div\")\n",
       "            notifiedDiv.id = \"3202b75f-b02e-4a97-9388-74f85c8238cf\"\n",
       "            element.append(notifiedDiv)\n",
       "        }\n",
       "\n",
       "        // only send notifications if the pageload is complete; this will\n",
       "        // help stop extra notifications when a saved notebook is loaded,\n",
       "        // which during testing gives us state \"interactive\", not \"complete\"\n",
       "        if (document.readyState === 'complete') {\n",
       "            // check for the div that signifies that the notification\n",
       "            // was already sent\n",
       "            if (document.getElementById(\"3202b75f-b02e-4a97-9388-74f85c8238cf\") === null) {\n",
       "                var notificationPayload = {\"requireInteraction\": false, \"icon\": \"/static/base/images/favicon.ico\", \"body\": \"Cell execution has finished!\"};\n",
       "                if (Notification.permission !== 'denied') {\n",
       "                    if (Notification.permission !== 'granted') { \n",
       "                        Notification.requestPermission(function (permission) {\n",
       "                            if(!('permission' in Notification)) {\n",
       "                                Notification.permission = permission\n",
       "                            }\n",
       "                        })\n",
       "                    }\n",
       "                    if (Notification.permission === 'granted') {\n",
       "                    var notification = new Notification(\"Jupyter Notebook\", notificationPayload)\n",
       "                    appendUniqueDiv()\n",
       "                    notification.onclick = function () {\n",
       "                        window.focus();\n",
       "                        this.close();\n",
       "                        };\n",
       "                    } \n",
       "                }     \n",
       "            }\n",
       "        }\n",
       "    }\n",
       ")\n"
      ],
      "text/plain": [
       "<IPython.core.display.Javascript object>"
      ]
     },
     "metadata": {},
     "output_type": "display_data"
    }
   ],
   "source": [
    "%%notify\n",
    "duplicates_removed = pd.read_sql(\"\"\"\n",
    "CREATE TABLE IF NOT EXISTS duplicates_removed AS\n",
    "SELECT *\n",
    "FROM deduplicated_payments_by_doctor\n",
    "WHERE doc_counts_nppes = doc_counts_open_payments\n",
    "  AND doc_counts_nppes = 1\n",
    "  OR doc_counts_nppes < doc_counts_open_payments\n",
    "  OR doc_counts_nppes IS NULL\n",
    "  AND doc_counts_open_payments = 1;\n",
    "\n",
    "GRANT ALL ON TABLE duplicates_removed TO redash;\n",
    "\n",
    "\n",
    "SELECT *\n",
    "FROM duplicates_removed;\"\"\", con=conn)"
   ]
  },
  {
   "cell_type": "markdown",
   "metadata": {
    "collapsed": true
   },
   "source": [
    "## Analyze the data"
   ]
  },
  {
   "cell_type": "markdown",
   "metadata": {},
   "source": [
    "How much money from drug companies have doctors sitting on drug utilization boards received? We will use the minimum amount column so as to avoid overcounting payments in cases where more than one doctor with the same name in the same state is listed in Open Payments."
   ]
  },
  {
   "cell_type": "code",
   "execution_count": 10,
   "metadata": {},
   "outputs": [
    {
     "data": {
      "text/plain": [
       "3036013.1100000013"
      ]
     },
     "execution_count": 10,
     "metadata": {},
     "output_type": "execute_result"
    }
   ],
   "source": [
    "duplicates_removed[\"min_amount\"].sum()"
   ]
  },
  {
   "cell_type": "markdown",
   "metadata": {},
   "source": [
    "OK. So doctors sitting on drug utilization boards have taken in about $3 million. And how many of these doctors are there?"
   ]
  },
  {
   "cell_type": "code",
   "execution_count": 11,
   "metadata": {},
   "outputs": [
    {
     "data": {
      "text/plain": [
       "physician_profile_id        283\n",
       "first_name                  283\n",
       "last_name                   283\n",
       "state_name                  283\n",
       "degree_1                    274\n",
       "degree_2                     29\n",
       "payments_amount             283\n",
       "max_amount                  283\n",
       "min_amount                  283\n",
       "number_of_payments          283\n",
       "doc_counts_nppes            274\n",
       "doc_counts_open_payments    283\n",
       "dtype: int64"
      ]
     },
     "execution_count": 11,
     "metadata": {},
     "output_type": "execute_result"
    }
   ],
   "source": [
    "duplicates_removed[duplicates_removed[\"min_amount\"] > 0].count()"
   ]
  },
  {
   "cell_type": "markdown",
   "metadata": {},
   "source": [
    "OK. So, 283 doctors on drug utilization boards have taken at least some money from drug companies. What amount of all doctors sitting on these boards does that figure represent? To figure that out, we'll need to first calculate all the covered physicians sitting on the boards, as determined by their degree(s)."
   ]
  },
  {
   "cell_type": "code",
   "execution_count": 12,
   "metadata": {},
   "outputs": [
    {
     "data": {
      "text/plain": [
       "['MD', 'DO', 'DMD', 'DDS', 'DPM', 'OD', 'DC']"
      ]
     },
     "execution_count": 12,
     "metadata": {},
     "output_type": "execute_result"
    }
   ],
   "source": [
    "covered_degrees = [\"MD\", \"DO\", \"DMD\", \"DDS\", \"DPM\", \"OD\", \"DC\"]\n",
    "covered_degrees"
   ]
  },
  {
   "cell_type": "markdown",
   "metadata": {},
   "source": [
    "So how many doctors sitting on these boards either held one of these degrees or took money from drug companies (and were thus by definition covered by Open Payments)? That's our denominator."
   ]
  },
  {
   "cell_type": "code",
   "execution_count": 13,
   "metadata": {},
   "outputs": [
    {
     "data": {
      "text/plain": [
       "physician_profile_id        313\n",
       "first_name                  455\n",
       "last_name                   455\n",
       "state_name                  455\n",
       "degree_1                    445\n",
       "degree_2                     44\n",
       "payments_amount             313\n",
       "max_amount                  313\n",
       "min_amount                  313\n",
       "number_of_payments          313\n",
       "doc_counts_nppes            377\n",
       "doc_counts_open_payments    313\n",
       "dtype: int64"
      ]
     },
     "execution_count": 13,
     "metadata": {},
     "output_type": "execute_result"
    }
   ],
   "source": [
    "deduplicated_payments_by_doctor[(deduplicated_payments_by_doctor[\"degree_1\"].isin(covered_degrees)) | (deduplicated_payments_by_doctor[\"degree_2\"].isin(covered_degrees)) | (deduplicated_payments_by_doctor[\"min_amount\"] > 0)].count()"
   ]
  },
  {
   "cell_type": "markdown",
   "metadata": {},
   "source": [
    "OK. So, it looks like 455 doctors either held one of these covered degrees or took money from drug companies (and were thus by definition covered by Open Payments). It's possible some of the doctors for whom we lack degree information are covered by Open Payments but we just don't know. (It's also possible that some of the doctors we excluded from our count of doctors taking drug company money because there was at least one possible duplicate who didn't take money did, in fact, take money.) In any case, using the 455 figure as our denominator, 62 percent of covered doctors sitting on these boards took some amount of money from drug companies."
   ]
  },
  {
   "cell_type": "markdown",
   "metadata": {},
   "source": [
    "How many received more than $1,000?"
   ]
  },
  {
   "cell_type": "code",
   "execution_count": 14,
   "metadata": {
    "scrolled": true
   },
   "outputs": [
    {
     "data": {
      "text/plain": [
       "physician_profile_id        103\n",
       "first_name                  103\n",
       "last_name                   103\n",
       "state_name                  103\n",
       "degree_1                     99\n",
       "degree_2                      9\n",
       "payments_amount             103\n",
       "max_amount                  103\n",
       "min_amount                  103\n",
       "number_of_payments          103\n",
       "doc_counts_nppes             99\n",
       "doc_counts_open_payments    103\n",
       "dtype: int64"
      ]
     },
     "execution_count": 14,
     "metadata": {},
     "output_type": "execute_result"
    }
   ],
   "source": [
    "duplicates_removed[duplicates_removed[\"min_amount\"] > 1000].count()"
   ]
  },
  {
   "cell_type": "markdown",
   "metadata": {},
   "source": [
    "OK. So, 103 doctors received more than $1,000."
   ]
  },
  {
   "cell_type": "markdown",
   "metadata": {},
   "source": [
    "How many received more than $10,000?"
   ]
  },
  {
   "cell_type": "code",
   "execution_count": 15,
   "metadata": {},
   "outputs": [
    {
     "data": {
      "text/plain": [
       "physician_profile_id        34\n",
       "first_name                  34\n",
       "last_name                   34\n",
       "state_name                  34\n",
       "degree_1                    31\n",
       "degree_2                     3\n",
       "payments_amount             34\n",
       "max_amount                  34\n",
       "min_amount                  34\n",
       "number_of_payments          34\n",
       "doc_counts_nppes            33\n",
       "doc_counts_open_payments    34\n",
       "dtype: int64"
      ]
     },
     "execution_count": 15,
     "metadata": {},
     "output_type": "execute_result"
    }
   ],
   "source": [
    "duplicates_removed[duplicates_removed[\"min_amount\"] > 10000].count()"
   ]
  },
  {
   "cell_type": "markdown",
   "metadata": {},
   "source": [
    "OK. So, 34 doctors received more than $10,000."
   ]
  },
  {
   "cell_type": "markdown",
   "metadata": {},
   "source": [
    "Now let's break a couple of these figures down by state. First up: how many states had doctors on such a board who received money from drug companies?"
   ]
  },
  {
   "cell_type": "code",
   "execution_count": 16,
   "metadata": {
    "scrolled": true
   },
   "outputs": [
    {
     "data": {
      "text/plain": [
       "state_name        48\n",
       "total_doctors     48\n",
       "total_payments    48\n",
       "max_payment       48\n",
       "doctors_paid      48\n",
       "dtype: int64"
      ]
     },
     "execution_count": 16,
     "metadata": {},
     "output_type": "execute_result"
    }
   ],
   "source": [
    "# Calculate the number of doctors receiving money per state and the amount they took.\n",
    "receiving_docs_by_state = duplicates_removed.groupby(\"state_name\").agg({\"min_amount\": [sum, max], \"physician_profile_id\": len})\n",
    "receiving_docs_by_state.columns = receiving_docs_by_state.columns.droplevel() # Drop the first level of the multi-level column names\n",
    "receiving_docs_by_state.reset_index(inplace=True)\n",
    "receiving_docs_by_state.rename(columns={\"sum\": \"total_payments\", \"max\": \"max_payment\", \"len\": \"doctors_paid\"}, inplace=True)\n",
    "\n",
    "# Calculate the total number of doctors per state.\n",
    "total_docs_by_state = deduplicated_payments_by_doctor[(deduplicated_payments_by_doctor[\"degree_1\"].isin(covered_degrees)) | (deduplicated_payments_by_doctor[\"degree_2\"].isin(covered_degrees)) | (deduplicated_payments_by_doctor[\"min_amount\"] > 0)].groupby(\"state_name\").agg({\"physician_profile_id\": len})\n",
    "total_docs_by_state.reset_index(inplace=True)\n",
    "total_docs_by_state.rename(columns={\"physician_profile_id\": \"total_doctors\"}, inplace=True)\n",
    "\n",
    "# Merge the dataframes.\n",
    "payments_by_state = total_docs_by_state.merge(receiving_docs_by_state, how=\"outer\", on=\"state_name\")\n",
    "payments_by_state[payments_by_state[\"total_payments\"] > 0].count()"
   ]
  },
  {
   "cell_type": "markdown",
   "metadata": {},
   "source": [
    "OK. So it looks like 48 states had doctors on such boards who received money."
   ]
  },
  {
   "cell_type": "markdown",
   "metadata": {},
   "source": [
    "And how many states had at least one doctor on such a board who received more than $1,000?"
   ]
  },
  {
   "cell_type": "code",
   "execution_count": 17,
   "metadata": {},
   "outputs": [
    {
     "data": {
      "text/plain": [
       "state_name        38\n",
       "total_doctors     38\n",
       "total_payments    38\n",
       "max_payment       38\n",
       "doctors_paid      38\n",
       "dtype: int64"
      ]
     },
     "execution_count": 17,
     "metadata": {},
     "output_type": "execute_result"
    }
   ],
   "source": [
    "payments_by_state[payments_by_state[\"max_payment\"] > 1000].count()"
   ]
  },
  {
   "cell_type": "markdown",
   "metadata": {},
   "source": [
    "OK. It looks like 38 states had at least one doctor on such a board who received more than $1,000."
   ]
  },
  {
   "cell_type": "markdown",
   "metadata": {
    "collapsed": true
   },
   "source": [
    "## Export the data to Excel for visualization and further analysis"
   ]
  },
  {
   "cell_type": "code",
   "execution_count": 18,
   "metadata": {
    "collapsed": true
   },
   "outputs": [],
   "source": [
    "writer = pd.ExcelWriter(\"data/doc_payments.xlsx\")\n",
    "duplicates_removed.to_excel(writer, \"Payments by Doctor\", startcol=0, index=False)\n",
    "payments_by_state.to_excel(writer, \"Payments by State\", startcol=0, index=False)\n",
    "writer.save()"
   ]
  },
  {
   "cell_type": "code",
   "execution_count": null,
   "metadata": {
    "collapsed": true
   },
   "outputs": [],
   "source": []
  }
 ],
 "metadata": {
  "kernelspec": {
   "display_name": "Python 3",
   "language": "python",
   "name": "python3"
  },
  "language_info": {
   "codemirror_mode": {
    "name": "ipython",
    "version": 3
   },
   "file_extension": ".py",
   "mimetype": "text/x-python",
   "name": "python",
   "nbconvert_exporter": "python",
   "pygments_lexer": "ipython3",
   "version": "3.6.3"
  }
 },
 "nbformat": 4,
 "nbformat_minor": 2
}
