{
 "cells": [
  {
   "cell_type": "code",
   "execution_count": 1,
   "metadata": {
    "scrolled": false
   },
   "outputs": [
    {
     "data": {
      "application/javascript": [
       "if (!(\"Notification\" in window)) {\n",
       "    alert(\"This browser does not support desktop notifications, so the %%notify magic will not work.\");\n",
       "} else if (Notification.permission !== 'granted' && Notification.permission !== 'denied') {\n",
       "    Notification.requestPermission(function (permission) {\n",
       "        if(!('permission' in Notification)) {\n",
       "            Notification.permission = permission;\n",
       "        }\n",
       "    })\n",
       "}\n"
      ],
      "text/plain": [
       "<IPython.core.display.Javascript object>"
      ]
     },
     "metadata": {},
     "output_type": "display_data"
    }
   ],
   "source": [
    "import json\n",
    "import numpy as np\n",
    "import pandas as pd\n",
    "import psycopg2\n",
    "\n",
    "%load_ext jupyternotify"
   ]
  },
  {
   "cell_type": "markdown",
   "metadata": {},
   "source": [
    "# How many doctors on Medicaid drug utilization boards have received payments from drug manufacturers?"
   ]
  },
  {
   "cell_type": "markdown",
   "metadata": {},
   "source": [
    "We will use Open Payments data to determine the extent of payments from 2013 through 2016 from drug manufacturers to doctors serving on Medicaid drug utilization boards between the start of 2016 and March of 2018."
   ]
  },
  {
   "cell_type": "markdown",
   "metadata": {},
   "source": [
    "## Create tables"
   ]
  },
  {
   "cell_type": "markdown",
   "metadata": {},
   "source": [
    "First, connect to the database."
   ]
  },
  {
   "cell_type": "code",
   "execution_count": 2,
   "metadata": {
    "collapsed": true
   },
   "outputs": [],
   "source": [
    "with open(\"config.json\") as f:\n",
    "    conf = json.load(f)"
   ]
  },
  {
   "cell_type": "code",
   "execution_count": 3,
   "metadata": {
    "collapsed": true
   },
   "outputs": [],
   "source": [
    "conn_str = \"host={} dbname={} user={} password={}\".format(conf[\"host\"], conf[\"database\"], conf[\"user\"], conf[\"password\"])"
   ]
  },
  {
   "cell_type": "code",
   "execution_count": 4,
   "metadata": {
    "collapsed": true
   },
   "outputs": [],
   "source": [
    "conn = psycopg2.connect(conn_str)\n",
    "conn.autocommit = True # Allow the notebook to commit transactions (like creating a table) to the connected database."
   ]
  },
  {
   "cell_type": "markdown",
   "metadata": {},
   "source": [
    "Query the database to create a new table of all Medicaid drug utilization board members and the general purpose payments they received from drug manufacturers."
   ]
  },
  {
   "cell_type": "code",
   "execution_count": 5,
   "metadata": {},
   "outputs": [
    {
     "data": {
      "application/javascript": [
       "$(document).ready(\n",
       "    function() {\n",
       "        function appendUniqueDiv(){\n",
       "            // append a div with our uuid so we can check that it's already\n",
       "            // been sent and avoid duplicates on page reload\n",
       "            var notifiedDiv = document.createElement(\"div\")\n",
       "            notifiedDiv.id = \"dde37e49-f10c-4804-af11-343c0dda2aa2\"\n",
       "            element.append(notifiedDiv)\n",
       "        }\n",
       "\n",
       "        // only send notifications if the pageload is complete; this will\n",
       "        // help stop extra notifications when a saved notebook is loaded,\n",
       "        // which during testing gives us state \"interactive\", not \"complete\"\n",
       "        if (document.readyState === 'complete') {\n",
       "            // check for the div that signifies that the notification\n",
       "            // was already sent\n",
       "            if (document.getElementById(\"dde37e49-f10c-4804-af11-343c0dda2aa2\") === null) {\n",
       "                var notificationPayload = {\"requireInteraction\": false, \"icon\": \"/static/base/images/favicon.ico\", \"body\": \"Cell execution has finished!\"};\n",
       "                if (Notification.permission !== 'denied') {\n",
       "                    if (Notification.permission !== 'granted') { \n",
       "                        Notification.requestPermission(function (permission) {\n",
       "                            if(!('permission' in Notification)) {\n",
       "                                Notification.permission = permission\n",
       "                            }\n",
       "                        })\n",
       "                    }\n",
       "                    if (Notification.permission === 'granted') {\n",
       "                    var notification = new Notification(\"Jupyter Notebook\", notificationPayload)\n",
       "                    appendUniqueDiv()\n",
       "                    notification.onclick = function () {\n",
       "                        window.focus();\n",
       "                        this.close();\n",
       "                        };\n",
       "                    } \n",
       "                }     \n",
       "            }\n",
       "        }\n",
       "    }\n",
       ")\n"
      ],
      "text/plain": [
       "<IPython.core.display.Javascript object>"
      ]
     },
     "metadata": {},
     "output_type": "display_data"
    }
   ],
   "source": [
    "%%notify\n",
    "general_payments_by_doctor = pd.read_sql(\"\"\"CREATE TABLE IF NOT EXISTS general_payments_by_doctor AS\n",
    "SELECT physician_profile_id1 AS physician_profile_id,\n",
    "       first_name,\n",
    "       last_name,\n",
    "       state_name,\n",
    "       degree_1,\n",
    "       degree_2,\n",
    "       general_payments_amount,\n",
    "       number_of_general_payments\n",
    "FROM\n",
    "  (SELECT physician_profile_id AS physician_profile_id1,\n",
    "          first_name,\n",
    "          last_name,\n",
    "          state_name,\n",
    "          degree_1,\n",
    "          degree_2\n",
    "   FROM committee_members\n",
    "   LEFT JOIN open_payments_general ON first_name = physician_first_name\n",
    "   AND last_name = physician_last_name\n",
    "   AND state_name = recipient_state\n",
    "   GROUP BY physician_profile_id,\n",
    "            first_name,\n",
    "            last_name,\n",
    "            state_name,\n",
    "            degree_1,\n",
    "            degree_2) AS matching_committee_members\n",
    "LEFT JOIN\n",
    "  (SELECT physician_profile_id AS physician_profile_id2,\n",
    "          sum(total_amount_of_payment_usdollars) AS general_payments_amount,\n",
    "          count(DISTINCT record_id) AS number_of_general_payments\n",
    "   FROM open_payments_general\n",
    "   GROUP BY physician_profile_id) AS totals_by_id ON matching_committee_members.physician_profile_id1 = totals_by_id.physician_profile_id2;\n",
    "\n",
    "\n",
    "GRANT ALL ON TABLE general_payments_by_doctor TO redash;\n",
    "\n",
    "\n",
    "SELECT *\n",
    "FROM general_payments_by_doctor;\"\"\", con=conn)"
   ]
  },
  {
   "cell_type": "markdown",
   "metadata": {
    "collapsed": true
   },
   "source": [
    "The only consistent data we have about members serving on state drug utilization boards are the members' first name, last name and state. As such, that’s all we have to join against the Open Payments data. So in order to understand the extent of possible duplicates in this data, we will count how many distinct doctors in both the Open Payments general payments table and the [NPPES](https://npiregistry.cms.hhs.gov/) (a national dataset of physicians) registry table match our committee members."
   ]
  },
  {
   "cell_type": "code",
   "execution_count": 6,
   "metadata": {},
   "outputs": [
    {
     "data": {
      "application/javascript": [
       "$(document).ready(\n",
       "    function() {\n",
       "        function appendUniqueDiv(){\n",
       "            // append a div with our uuid so we can check that it's already\n",
       "            // been sent and avoid duplicates on page reload\n",
       "            var notifiedDiv = document.createElement(\"div\")\n",
       "            notifiedDiv.id = \"3c7775f9-a273-4e2d-9d6d-5978743e0c85\"\n",
       "            element.append(notifiedDiv)\n",
       "        }\n",
       "\n",
       "        // only send notifications if the pageload is complete; this will\n",
       "        // help stop extra notifications when a saved notebook is loaded,\n",
       "        // which during testing gives us state \"interactive\", not \"complete\"\n",
       "        if (document.readyState === 'complete') {\n",
       "            // check for the div that signifies that the notification\n",
       "            // was already sent\n",
       "            if (document.getElementById(\"3c7775f9-a273-4e2d-9d6d-5978743e0c85\") === null) {\n",
       "                var notificationPayload = {\"requireInteraction\": false, \"icon\": \"/static/base/images/favicon.ico\", \"body\": \"Cell execution has finished!\"};\n",
       "                if (Notification.permission !== 'denied') {\n",
       "                    if (Notification.permission !== 'granted') { \n",
       "                        Notification.requestPermission(function (permission) {\n",
       "                            if(!('permission' in Notification)) {\n",
       "                                Notification.permission = permission\n",
       "                            }\n",
       "                        })\n",
       "                    }\n",
       "                    if (Notification.permission === 'granted') {\n",
       "                    var notification = new Notification(\"Jupyter Notebook\", notificationPayload)\n",
       "                    appendUniqueDiv()\n",
       "                    notification.onclick = function () {\n",
       "                        window.focus();\n",
       "                        this.close();\n",
       "                        };\n",
       "                    } \n",
       "                }     \n",
       "            }\n",
       "        }\n",
       "    }\n",
       ")\n"
      ],
      "text/plain": [
       "<IPython.core.display.Javascript object>"
      ]
     },
     "metadata": {},
     "output_type": "display_data"
    }
   ],
   "source": [
    "%%notify\n",
    "general_payments_by_doctor_with_counts = pd.read_sql(\"\"\"\n",
    "CREATE TABLE IF NOT EXISTS general_payments_by_doctor_with_counts AS\n",
    "SELECT general_payments_by_doctor.physician_profile_id,\n",
    "       general_payments_by_doctor.first_name,\n",
    "       general_payments_by_doctor.last_name,\n",
    "       general_payments_by_doctor.state_name,\n",
    "       general_payments_by_doctor.degree_1,\n",
    "       general_payments_by_doctor.degree_2,\n",
    "       general_payments_amount,\n",
    "       number_of_general_payments,\n",
    "       possible_duplicates_open_payments,\n",
    "       possible_duplicates_nppes\n",
    "FROM general_payments_by_doctor\n",
    "LEFT JOIN\n",
    "  (SELECT physician_first_name,\n",
    "          physician_last_name,\n",
    "          recipient_state,\n",
    "          count(DISTINCT physician_profile_id) AS possible_duplicates_open_payments\n",
    "   FROM open_payments_general\n",
    "   GROUP BY physician_first_name,\n",
    "            physician_last_name,\n",
    "            recipient_state) AS open_payments_grouped_by_first_last_state ON general_payments_by_doctor.first_name = open_payments_grouped_by_first_last_state.physician_first_name\n",
    "AND general_payments_by_doctor.last_name = open_payments_grouped_by_first_last_state.physician_last_name\n",
    "AND general_payments_by_doctor.state_name = open_payments_grouped_by_first_last_state.recipient_state\n",
    "LEFT JOIN\n",
    "  (SELECT provider_first_name,\n",
    "          provider_last_name_legal_name,\n",
    "          provider_business_practice_location_address_state_name,\n",
    "          count(DISTINCT npi) AS possible_duplicates_nppes\n",
    "   FROM nppes\n",
    "   GROUP BY provider_first_name,\n",
    "            provider_last_name_legal_name,\n",
    "            provider_business_practice_location_address_state_name) AS nppes_grouped_by_first_last_state ON general_payments_by_doctor.first_name = nppes_grouped_by_first_last_state.provider_first_name\n",
    "AND general_payments_by_doctor.last_name = nppes_grouped_by_first_last_state.provider_last_name_legal_name\n",
    "AND general_payments_by_doctor.state_name = nppes_grouped_by_first_last_state.provider_business_practice_location_address_state_name;\n",
    "\n",
    "\n",
    "GRANT ALL ON TABLE general_payments_by_doctor_with_counts TO redash;\n",
    "\n",
    "\n",
    "SELECT *\n",
    "FROM general_payments_by_doctor_with_counts;\"\"\", con=conn)"
   ]
  },
  {
   "cell_type": "markdown",
   "metadata": {},
   "source": [
    "Return a table of deduplicated doctors and the general payments they received."
   ]
  },
  {
   "cell_type": "code",
   "execution_count": 7,
   "metadata": {},
   "outputs": [
    {
     "data": {
      "application/javascript": [
       "$(document).ready(\n",
       "    function() {\n",
       "        function appendUniqueDiv(){\n",
       "            // append a div with our uuid so we can check that it's already\n",
       "            // been sent and avoid duplicates on page reload\n",
       "            var notifiedDiv = document.createElement(\"div\")\n",
       "            notifiedDiv.id = \"e5e593d7-6cfb-481a-8e33-a2ec11a3c228\"\n",
       "            element.append(notifiedDiv)\n",
       "        }\n",
       "\n",
       "        // only send notifications if the pageload is complete; this will\n",
       "        // help stop extra notifications when a saved notebook is loaded,\n",
       "        // which during testing gives us state \"interactive\", not \"complete\"\n",
       "        if (document.readyState === 'complete') {\n",
       "            // check for the div that signifies that the notification\n",
       "            // was already sent\n",
       "            if (document.getElementById(\"e5e593d7-6cfb-481a-8e33-a2ec11a3c228\") === null) {\n",
       "                var notificationPayload = {\"requireInteraction\": false, \"icon\": \"/static/base/images/favicon.ico\", \"body\": \"Cell execution has finished!\"};\n",
       "                if (Notification.permission !== 'denied') {\n",
       "                    if (Notification.permission !== 'granted') { \n",
       "                        Notification.requestPermission(function (permission) {\n",
       "                            if(!('permission' in Notification)) {\n",
       "                                Notification.permission = permission\n",
       "                            }\n",
       "                        })\n",
       "                    }\n",
       "                    if (Notification.permission === 'granted') {\n",
       "                    var notification = new Notification(\"Jupyter Notebook\", notificationPayload)\n",
       "                    appendUniqueDiv()\n",
       "                    notification.onclick = function () {\n",
       "                        window.focus();\n",
       "                        this.close();\n",
       "                        };\n",
       "                    } \n",
       "                }     \n",
       "            }\n",
       "        }\n",
       "    }\n",
       ")\n"
      ],
      "text/plain": [
       "<IPython.core.display.Javascript object>"
      ]
     },
     "metadata": {},
     "output_type": "display_data"
    }
   ],
   "source": [
    "%%notify\n",
    "deduplicated_general_payments_by_doctor_with_counts = pd.read_sql(\"\"\"\n",
    "CREATE TABLE IF NOT EXISTS deduplicated_general_payments_by_doctor_with_counts AS\n",
    "SELECT *\n",
    "FROM\n",
    "  (SELECT DISTINCT ON (first_name,\n",
    "                       last_name,\n",
    "                       state_name) *\n",
    "   FROM general_payments_by_doctor_with_counts) AS grouped_by_first_last_state;\n",
    "\n",
    "\n",
    "GRANT ALL ON TABLE deduplicated_general_payments_by_doctor_with_counts TO redash;\n",
    "\n",
    "\n",
    "SELECT *\n",
    "FROM deduplicated_general_payments_by_doctor_with_counts;\"\"\", con=conn)"
   ]
  },
  {
   "cell_type": "markdown",
   "metadata": {},
   "source": [
    "Remove all the doctors where our query turned up a duplicate in either the Open Payments or NPPES data."
   ]
  },
  {
   "cell_type": "code",
   "execution_count": 8,
   "metadata": {},
   "outputs": [
    {
     "data": {
      "application/javascript": [
       "$(document).ready(\n",
       "    function() {\n",
       "        function appendUniqueDiv(){\n",
       "            // append a div with our uuid so we can check that it's already\n",
       "            // been sent and avoid duplicates on page reload\n",
       "            var notifiedDiv = document.createElement(\"div\")\n",
       "            notifiedDiv.id = \"ddc1a03c-3eb0-4487-ad25-a21b599c2d49\"\n",
       "            element.append(notifiedDiv)\n",
       "        }\n",
       "\n",
       "        // only send notifications if the pageload is complete; this will\n",
       "        // help stop extra notifications when a saved notebook is loaded,\n",
       "        // which during testing gives us state \"interactive\", not \"complete\"\n",
       "        if (document.readyState === 'complete') {\n",
       "            // check for the div that signifies that the notification\n",
       "            // was already sent\n",
       "            if (document.getElementById(\"ddc1a03c-3eb0-4487-ad25-a21b599c2d49\") === null) {\n",
       "                var notificationPayload = {\"requireInteraction\": false, \"icon\": \"/static/base/images/favicon.ico\", \"body\": \"Cell execution has finished!\"};\n",
       "                if (Notification.permission !== 'denied') {\n",
       "                    if (Notification.permission !== 'granted') { \n",
       "                        Notification.requestPermission(function (permission) {\n",
       "                            if(!('permission' in Notification)) {\n",
       "                                Notification.permission = permission\n",
       "                            }\n",
       "                        })\n",
       "                    }\n",
       "                    if (Notification.permission === 'granted') {\n",
       "                    var notification = new Notification(\"Jupyter Notebook\", notificationPayload)\n",
       "                    appendUniqueDiv()\n",
       "                    notification.onclick = function () {\n",
       "                        window.focus();\n",
       "                        this.close();\n",
       "                        };\n",
       "                    } \n",
       "                }     \n",
       "            }\n",
       "        }\n",
       "    }\n",
       ")\n"
      ],
      "text/plain": [
       "<IPython.core.display.Javascript object>"
      ]
     },
     "metadata": {},
     "output_type": "display_data"
    }
   ],
   "source": [
    "%%notify\n",
    "duplicates_removed = pd.read_sql(\"\"\"\n",
    "CREATE TABLE IF NOT EXISTS duplicates_removed AS\n",
    "SELECT *\n",
    "FROM deduplicated_general_payments_by_doctor_with_counts\n",
    "WHERE (possible_duplicates_nppes < 2\n",
    "       AND possible_duplicates_open_payments < 2)\n",
    "  OR (possible_duplicates_nppes IS NULL\n",
    "      AND possible_duplicates_open_payments IS NULL)\n",
    "  OR (possible_duplicates_nppes < 2\n",
    "      AND possible_duplicates_open_payments IS NULL)\n",
    "  OR (possible_duplicates_open_payments < 2\n",
    "      AND possible_duplicates_nppes IS NULL);\n",
    "\n",
    "\n",
    "GRANT ALL ON TABLE duplicates_removed TO redash;\n",
    "\n",
    "\n",
    "SELECT *\n",
    "FROM duplicates_removed;\"\"\", con=conn)"
   ]
  },
  {
   "cell_type": "markdown",
   "metadata": {
    "collapsed": true
   },
   "source": [
    "## Analysis"
   ]
  },
  {
   "cell_type": "markdown",
   "metadata": {},
   "source": [
    "How much money from drug companies have doctors sitting on drug utilization boards received?"
   ]
  },
  {
   "cell_type": "code",
   "execution_count": 9,
   "metadata": {},
   "outputs": [
    {
     "data": {
      "text/plain": [
       "2409260.4400000013"
      ]
     },
     "execution_count": 9,
     "metadata": {},
     "output_type": "execute_result"
    }
   ],
   "source": [
    "duplicates_removed[\"general_payments_amount\"].sum()"
   ]
  },
  {
   "cell_type": "markdown",
   "metadata": {},
   "source": [
    "OK. So doctors sitting on drug utilization boards have taken in about $2.4 million. And how many of these doctors have taken money?"
   ]
  },
  {
   "cell_type": "code",
   "execution_count": 10,
   "metadata": {},
   "outputs": [
    {
     "data": {
      "text/plain": [
       "physician_profile_id                 263\n",
       "first_name                           263\n",
       "last_name                            263\n",
       "state_name                           263\n",
       "degree_1                             254\n",
       "degree_2                              24\n",
       "general_payments_amount              263\n",
       "number_of_general_payments           263\n",
       "possible_duplicates_open_payments    263\n",
       "possible_duplicates_nppes            256\n",
       "dtype: int64"
      ]
     },
     "execution_count": 10,
     "metadata": {},
     "output_type": "execute_result"
    }
   ],
   "source": [
    "duplicates_removed[duplicates_removed[\"general_payments_amount\"] > 0].count()"
   ]
  },
  {
   "cell_type": "markdown",
   "metadata": {},
   "source": [
    "OK. So, 263 doctors on drug utilization boards have taken at least some money from drug companies. What amount of all doctors sitting on these boards does that figure represent? To figure that out, we'll need to first calculate all the covered physicians sitting on the boards, as determined by their degree(s)."
   ]
  },
  {
   "cell_type": "code",
   "execution_count": 11,
   "metadata": {},
   "outputs": [
    {
     "data": {
      "text/plain": [
       "['MD', 'DO', 'DMD', 'DDS', 'DPM', 'OD', 'DC']"
      ]
     },
     "execution_count": 11,
     "metadata": {},
     "output_type": "execute_result"
    }
   ],
   "source": [
    "covered_degrees = [\"MD\", \"DO\", \"DMD\", \"DDS\", \"DPM\", \"OD\", \"DC\"]\n",
    "covered_degrees"
   ]
  },
  {
   "cell_type": "markdown",
   "metadata": {},
   "source": [
    "So how many doctors sitting on these boards either held one of these degrees or took money from drug companies? That's our denominator."
   ]
  },
  {
   "cell_type": "code",
   "execution_count": 12,
   "metadata": {},
   "outputs": [
    {
     "data": {
      "text/plain": [
       "physician_profile_id                 263\n",
       "first_name                           416\n",
       "last_name                            416\n",
       "state_name                           416\n",
       "degree_1                             407\n",
       "degree_2                              40\n",
       "general_payments_amount              263\n",
       "number_of_general_payments           263\n",
       "possible_duplicates_open_payments    263\n",
       "possible_duplicates_nppes            338\n",
       "dtype: int64"
      ]
     },
     "execution_count": 12,
     "metadata": {},
     "output_type": "execute_result"
    }
   ],
   "source": [
    "duplicates_removed[(duplicates_removed[\"degree_1\"].isin(covered_degrees)) | (duplicates_removed[\"degree_2\"].isin(covered_degrees)) | (duplicates_removed[\"general_payments_amount\"] > 0)].count()"
   ]
  },
  {
   "cell_type": "markdown",
   "metadata": {},
   "source": [
    "OK. So, it looks like 416 doctors either held one of these covered degrees or took money from drug companies (and were thus by definition covered by Open Payments). It's possible some of the doctors for whom we lack degree information are covered by Open Payments but we just don't know. So using the 416 figure as our denominator, 63 percent of covered doctors sitting on these boards took some amount of money from drug companies."
   ]
  },
  {
   "cell_type": "markdown",
   "metadata": {},
   "source": [
    "How many received more than $1,000?"
   ]
  },
  {
   "cell_type": "code",
   "execution_count": 13,
   "metadata": {
    "scrolled": true
   },
   "outputs": [
    {
     "data": {
      "text/plain": [
       "physician_profile_id                 92\n",
       "first_name                           92\n",
       "last_name                            92\n",
       "state_name                           92\n",
       "degree_1                             88\n",
       "degree_2                              6\n",
       "general_payments_amount              92\n",
       "number_of_general_payments           92\n",
       "possible_duplicates_open_payments    92\n",
       "possible_duplicates_nppes            88\n",
       "dtype: int64"
      ]
     },
     "execution_count": 13,
     "metadata": {},
     "output_type": "execute_result"
    }
   ],
   "source": [
    "duplicates_removed[duplicates_removed[\"general_payments_amount\"] > 1000].count()"
   ]
  },
  {
   "cell_type": "markdown",
   "metadata": {},
   "source": [
    "How many received more than $10,000?"
   ]
  },
  {
   "cell_type": "code",
   "execution_count": 14,
   "metadata": {},
   "outputs": [
    {
     "data": {
      "text/plain": [
       "physician_profile_id                 26\n",
       "first_name                           26\n",
       "last_name                            26\n",
       "state_name                           26\n",
       "degree_1                             23\n",
       "degree_2                              2\n",
       "general_payments_amount              26\n",
       "number_of_general_payments           26\n",
       "possible_duplicates_open_payments    26\n",
       "possible_duplicates_nppes            25\n",
       "dtype: int64"
      ]
     },
     "execution_count": 14,
     "metadata": {},
     "output_type": "execute_result"
    }
   ],
   "source": [
    "duplicates_removed[duplicates_removed[\"general_payments_amount\"] > 10000].count()"
   ]
  },
  {
   "cell_type": "markdown",
   "metadata": {},
   "source": [
    "How many states had doctors on such a board who received money from drug companies?"
   ]
  },
  {
   "cell_type": "code",
   "execution_count": 15,
   "metadata": {},
   "outputs": [
    {
     "data": {
      "text/plain": [
       "state_name                 48\n",
       "general_payments_amount    48\n",
       "dtype: int64"
      ]
     },
     "execution_count": 15,
     "metadata": {},
     "output_type": "execute_result"
    }
   ],
   "source": [
    "sum_grouped_by_state = duplicates_removed.groupby(\"state_name\")[\"general_payments_amount\"].sum().to_frame()\n",
    "sum_grouped_by_state.reset_index(inplace=True)\n",
    "sum_grouped_by_state[sum_grouped_by_state[\"general_payments_amount\"] > 0].count()"
   ]
  },
  {
   "cell_type": "markdown",
   "metadata": {},
   "source": [
    "How many states had at least one doctor on such a board who received more than $1,000?"
   ]
  },
  {
   "cell_type": "code",
   "execution_count": 16,
   "metadata": {},
   "outputs": [
    {
     "data": {
      "text/plain": [
       "state_name                 36\n",
       "general_payments_amount    36\n",
       "dtype: int64"
      ]
     },
     "execution_count": 16,
     "metadata": {},
     "output_type": "execute_result"
    }
   ],
   "source": [
    "max_grouped_by_state = duplicates_removed.groupby(\"state_name\")[\"general_payments_amount\"].max().to_frame()\n",
    "max_grouped_by_state.reset_index(inplace=True)\n",
    "max_grouped_by_state[max_grouped_by_state[\"general_payments_amount\"] > 1000].count()"
   ]
  },
  {
   "cell_type": "code",
   "execution_count": null,
   "metadata": {
    "collapsed": true
   },
   "outputs": [],
   "source": []
  }
 ],
 "metadata": {
  "kernelspec": {
   "display_name": "Python 3",
   "language": "python",
   "name": "python3"
  },
  "language_info": {
   "codemirror_mode": {
    "name": "ipython",
    "version": 3
   },
   "file_extension": ".py",
   "mimetype": "text/x-python",
   "name": "python",
   "nbconvert_exporter": "python",
   "pygments_lexer": "ipython3",
   "version": "3.6.3"
  }
 },
 "nbformat": 4,
 "nbformat_minor": 2
}
